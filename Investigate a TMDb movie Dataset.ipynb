{
 "cells": [
  {
   "cell_type": "markdown",
   "metadata": {},
   "source": [
    "\n",
    "\n",
    "# Project: Investigate a TMDb movie Dataset\n",
    "\n",
    "## Table of Contents\n",
    "<ul>\n",
    "<li><a href=\"#intro\">Introduction</a></li>\n",
    "<li><a href=\"#wrangling\">Data Wrangling</a></li>\n",
    "<li><a href=\"#eda\">Exploratory Data Analysis</a></li>\n",
    "<li><a href=\"#conclusions\">Conclusions</a></li>\n",
    "</ul>"
   ]
  },
  {
   "cell_type": "markdown",
   "metadata": {},
   "source": [
    "<a id='intro'></a>\n",
    "## Introduction\n",
    "\n",
    "\n",
    "My project is a report for a TMDb movie dataset investigation. This data set contains information about 10,000 movies collected from The Movie Database (TMDb), including user ratings and revenue. We need to find out if there is a connection between release dates, average votes,and genres. That report could be considered as a part of machine learing algorithm development to understand user's needs.<br>\n",
    "\n",
    "### Goal:\n",
    "__We should answer these questions:__\n",
    "\n",
    "- Is there a correlation between the quantity of produced featured filmes across every decade?\n",
    "\n",
    "\n",
    "\n",
    "\n",
    "\n",
    "\n",
    "\n",
    "- What is the most common genre for different types of movies, and what is their most common average vote? What is the most common range of average votes for different genres?\n",
    "\n",
    "\n",
    "\n",
    "\n",
    "### Stages\n",
    "Data is stored in the file `'tmdb-movies.csv'`. There is a high chance that the data quality of some columns will be bad since that dataset was merged multiple times with other datasets, and new \"synthetic\" columns were added. So we need to explore it before testing the hypotheses.\n",
    "\n",
    "First, evaluate the quality of the data and see whether its issues are significant. Then, during data preprocessing, try to account for the most critical problems.\n",
    "\n",
    "__The project consists of four stages:__\n",
    "- Introduction\n",
    "- Data Wrangling\n",
    "- Exploratory Data Analysis\n",
    "- Conclusions\n",
    "\n",
    "__The data wrangling stage consists of 4 substages:__\n",
    "- General Properties\n",
    "- Data transformation\n",
    "- Treating missing values and unrealistic values\n",
    "- Checking for duplicates\n",
    "- Categorization of data\n",
    "\n"
   ]
  },
  {
   "cell_type": "code",
   "execution_count": 1,
   "metadata": {
    "scrolled": false
   },
   "outputs": [],
   "source": [
    "#importing all libraries\n",
    "import pandas as pd\n",
    "import numpy as np\n",
    "import matplotlib.pyplot as plt\n",
    "import seaborn as sns\n",
    "import unicodedata\n",
    "%matplotlib inline\n",
    "\n",
    "#!pip install --upgrade pandas==0.25.0\n",
    "#!pip install --upgrade seaborn"
   ]
  },
  {
   "cell_type": "markdown",
   "metadata": {},
   "source": [
    "<a id='wrangling'></a>\n",
    "## Data Wrangling\n",
    "\n",
    "\n",
    "\n",
    "### General Properties\n",
    "\n",
    "__Description of the data:__\n",
    "- `id`                      - row id\n",
    "- `imdb_id`                 - imdb_id       \n",
    "- `popularity`              - movie's popularity \n",
    "- `budget`                  - movie's budget \n",
    "- `revenue`                 - movie's revenue\n",
    "- `original_title`          - movie's title\n",
    "- `cast`                    - movie's cast\n",
    "- `homepage`                - movie's homepage\n",
    "- `director`                - movie's director(s)\n",
    "- `tagline`                 - movie's tagline\n",
    "- `keywords`                - movie's keywords\n",
    "- `overview`                - movie's overview\n",
    "- `runtime`                 - movie's runtime\n",
    "- `genres`                  - movie's genres\n",
    "- `production_companies`    - movie's production companies\n",
    "- `release_date`            - movie's release date\n",
    "- `vote_count`              - votes total per movie\n",
    "- `vote_average`            - movie's avarage vote \n",
    "- `release_year`            - movie's release year\n",
    "- `budget_adj`              - movie's adjusted budget \n",
    "- `revenue_adj`             - movie's adjusted revenue\n",
    "\n",
    "Loading data and printing the first 20 lines to understand the potential problems with our dataset:"
   ]
  },
  {
   "cell_type": "code",
   "execution_count": 2,
   "metadata": {
    "scrolled": false
   },
   "outputs": [
    {
     "data": {
      "text/html": [
       "<div>\n",
       "<style scoped>\n",
       "    .dataframe tbody tr th:only-of-type {\n",
       "        vertical-align: middle;\n",
       "    }\n",
       "\n",
       "    .dataframe tbody tr th {\n",
       "        vertical-align: top;\n",
       "    }\n",
       "\n",
       "    .dataframe thead th {\n",
       "        text-align: right;\n",
       "    }\n",
       "</style>\n",
       "<table border=\"1\" class=\"dataframe\">\n",
       "  <thead>\n",
       "    <tr style=\"text-align: right;\">\n",
       "      <th></th>\n",
       "      <th>id</th>\n",
       "      <th>imdb_id</th>\n",
       "      <th>popularity</th>\n",
       "      <th>budget</th>\n",
       "      <th>revenue</th>\n",
       "      <th>original_title</th>\n",
       "      <th>cast</th>\n",
       "      <th>homepage</th>\n",
       "      <th>director</th>\n",
       "      <th>tagline</th>\n",
       "      <th>...</th>\n",
       "      <th>overview</th>\n",
       "      <th>runtime</th>\n",
       "      <th>genres</th>\n",
       "      <th>production_companies</th>\n",
       "      <th>release_date</th>\n",
       "      <th>vote_count</th>\n",
       "      <th>vote_average</th>\n",
       "      <th>release_year</th>\n",
       "      <th>budget_adj</th>\n",
       "      <th>revenue_adj</th>\n",
       "    </tr>\n",
       "  </thead>\n",
       "  <tbody>\n",
       "    <tr>\n",
       "      <th>0</th>\n",
       "      <td>135397</td>\n",
       "      <td>tt0369610</td>\n",
       "      <td>32.985763</td>\n",
       "      <td>150000000</td>\n",
       "      <td>1513528810</td>\n",
       "      <td>Jurassic World</td>\n",
       "      <td>Chris Pratt|Bryce Dallas Howard|Irrfan Khan|Vi...</td>\n",
       "      <td>http://www.jurassicworld.com/</td>\n",
       "      <td>Colin Trevorrow</td>\n",
       "      <td>The park is open.</td>\n",
       "      <td>...</td>\n",
       "      <td>Twenty-two years after the events of Jurassic ...</td>\n",
       "      <td>124</td>\n",
       "      <td>Action|Adventure|Science Fiction|Thriller</td>\n",
       "      <td>Universal Studios|Amblin Entertainment|Legenda...</td>\n",
       "      <td>6/9/15</td>\n",
       "      <td>5562</td>\n",
       "      <td>6.5</td>\n",
       "      <td>2015</td>\n",
       "      <td>1.379999e+08</td>\n",
       "      <td>1.392446e+09</td>\n",
       "    </tr>\n",
       "    <tr>\n",
       "      <th>1</th>\n",
       "      <td>76341</td>\n",
       "      <td>tt1392190</td>\n",
       "      <td>28.419936</td>\n",
       "      <td>150000000</td>\n",
       "      <td>378436354</td>\n",
       "      <td>Mad Max: Fury Road</td>\n",
       "      <td>Tom Hardy|Charlize Theron|Hugh Keays-Byrne|Nic...</td>\n",
       "      <td>http://www.madmaxmovie.com/</td>\n",
       "      <td>George Miller</td>\n",
       "      <td>What a Lovely Day.</td>\n",
       "      <td>...</td>\n",
       "      <td>An apocalyptic story set in the furthest reach...</td>\n",
       "      <td>120</td>\n",
       "      <td>Action|Adventure|Science Fiction|Thriller</td>\n",
       "      <td>Village Roadshow Pictures|Kennedy Miller Produ...</td>\n",
       "      <td>5/13/15</td>\n",
       "      <td>6185</td>\n",
       "      <td>7.1</td>\n",
       "      <td>2015</td>\n",
       "      <td>1.379999e+08</td>\n",
       "      <td>3.481613e+08</td>\n",
       "    </tr>\n",
       "    <tr>\n",
       "      <th>2</th>\n",
       "      <td>262500</td>\n",
       "      <td>tt2908446</td>\n",
       "      <td>13.112507</td>\n",
       "      <td>110000000</td>\n",
       "      <td>295238201</td>\n",
       "      <td>Insurgent</td>\n",
       "      <td>Shailene Woodley|Theo James|Kate Winslet|Ansel...</td>\n",
       "      <td>http://www.thedivergentseries.movie/#insurgent</td>\n",
       "      <td>Robert Schwentke</td>\n",
       "      <td>One Choice Can Destroy You</td>\n",
       "      <td>...</td>\n",
       "      <td>Beatrice Prior must confront her inner demons ...</td>\n",
       "      <td>119</td>\n",
       "      <td>Adventure|Science Fiction|Thriller</td>\n",
       "      <td>Summit Entertainment|Mandeville Films|Red Wago...</td>\n",
       "      <td>3/18/15</td>\n",
       "      <td>2480</td>\n",
       "      <td>6.3</td>\n",
       "      <td>2015</td>\n",
       "      <td>1.012000e+08</td>\n",
       "      <td>2.716190e+08</td>\n",
       "    </tr>\n",
       "    <tr>\n",
       "      <th>3</th>\n",
       "      <td>140607</td>\n",
       "      <td>tt2488496</td>\n",
       "      <td>11.173104</td>\n",
       "      <td>200000000</td>\n",
       "      <td>2068178225</td>\n",
       "      <td>Star Wars: The Force Awakens</td>\n",
       "      <td>Harrison Ford|Mark Hamill|Carrie Fisher|Adam D...</td>\n",
       "      <td>http://www.starwars.com/films/star-wars-episod...</td>\n",
       "      <td>J.J. Abrams</td>\n",
       "      <td>Every generation has a story.</td>\n",
       "      <td>...</td>\n",
       "      <td>Thirty years after defeating the Galactic Empi...</td>\n",
       "      <td>136</td>\n",
       "      <td>Action|Adventure|Science Fiction|Fantasy</td>\n",
       "      <td>Lucasfilm|Truenorth Productions|Bad Robot</td>\n",
       "      <td>12/15/15</td>\n",
       "      <td>5292</td>\n",
       "      <td>7.5</td>\n",
       "      <td>2015</td>\n",
       "      <td>1.839999e+08</td>\n",
       "      <td>1.902723e+09</td>\n",
       "    </tr>\n",
       "    <tr>\n",
       "      <th>4</th>\n",
       "      <td>168259</td>\n",
       "      <td>tt2820852</td>\n",
       "      <td>9.335014</td>\n",
       "      <td>190000000</td>\n",
       "      <td>1506249360</td>\n",
       "      <td>Furious 7</td>\n",
       "      <td>Vin Diesel|Paul Walker|Jason Statham|Michelle ...</td>\n",
       "      <td>http://www.furious7.com/</td>\n",
       "      <td>James Wan</td>\n",
       "      <td>Vengeance Hits Home</td>\n",
       "      <td>...</td>\n",
       "      <td>Deckard Shaw seeks revenge against Dominic Tor...</td>\n",
       "      <td>137</td>\n",
       "      <td>Action|Crime|Thriller</td>\n",
       "      <td>Universal Pictures|Original Film|Media Rights ...</td>\n",
       "      <td>4/1/15</td>\n",
       "      <td>2947</td>\n",
       "      <td>7.3</td>\n",
       "      <td>2015</td>\n",
       "      <td>1.747999e+08</td>\n",
       "      <td>1.385749e+09</td>\n",
       "    </tr>\n",
       "    <tr>\n",
       "      <th>5</th>\n",
       "      <td>281957</td>\n",
       "      <td>tt1663202</td>\n",
       "      <td>9.110700</td>\n",
       "      <td>135000000</td>\n",
       "      <td>532950503</td>\n",
       "      <td>The Revenant</td>\n",
       "      <td>Leonardo DiCaprio|Tom Hardy|Will Poulter|Domhn...</td>\n",
       "      <td>http://www.foxmovies.com/movies/the-revenant</td>\n",
       "      <td>Alejandro GonzÃ¡lez IÃ±Ã¡rritu</td>\n",
       "      <td>(n. One who has returned, as if from the dead.)</td>\n",
       "      <td>...</td>\n",
       "      <td>In the 1820s, a frontiersman, Hugh Glass, sets...</td>\n",
       "      <td>156</td>\n",
       "      <td>Western|Drama|Adventure|Thriller</td>\n",
       "      <td>Regency Enterprises|Appian Way|CatchPlay|Anony...</td>\n",
       "      <td>12/25/15</td>\n",
       "      <td>3929</td>\n",
       "      <td>7.2</td>\n",
       "      <td>2015</td>\n",
       "      <td>1.241999e+08</td>\n",
       "      <td>4.903142e+08</td>\n",
       "    </tr>\n",
       "    <tr>\n",
       "      <th>6</th>\n",
       "      <td>87101</td>\n",
       "      <td>tt1340138</td>\n",
       "      <td>8.654359</td>\n",
       "      <td>155000000</td>\n",
       "      <td>440603537</td>\n",
       "      <td>Terminator Genisys</td>\n",
       "      <td>Arnold Schwarzenegger|Jason Clarke|Emilia Clar...</td>\n",
       "      <td>http://www.terminatormovie.com/</td>\n",
       "      <td>Alan Taylor</td>\n",
       "      <td>Reset the future</td>\n",
       "      <td>...</td>\n",
       "      <td>The year is 2029. John Connor, leader of the r...</td>\n",
       "      <td>125</td>\n",
       "      <td>Science Fiction|Action|Thriller|Adventure</td>\n",
       "      <td>Paramount Pictures|Skydance Productions</td>\n",
       "      <td>6/23/15</td>\n",
       "      <td>2598</td>\n",
       "      <td>5.8</td>\n",
       "      <td>2015</td>\n",
       "      <td>1.425999e+08</td>\n",
       "      <td>4.053551e+08</td>\n",
       "    </tr>\n",
       "    <tr>\n",
       "      <th>7</th>\n",
       "      <td>286217</td>\n",
       "      <td>tt3659388</td>\n",
       "      <td>7.667400</td>\n",
       "      <td>108000000</td>\n",
       "      <td>595380321</td>\n",
       "      <td>The Martian</td>\n",
       "      <td>Matt Damon|Jessica Chastain|Kristen Wiig|Jeff ...</td>\n",
       "      <td>http://www.foxmovies.com/movies/the-martian</td>\n",
       "      <td>Ridley Scott</td>\n",
       "      <td>Bring Him Home</td>\n",
       "      <td>...</td>\n",
       "      <td>During a manned mission to Mars, Astronaut Mar...</td>\n",
       "      <td>141</td>\n",
       "      <td>Drama|Adventure|Science Fiction</td>\n",
       "      <td>Twentieth Century Fox Film Corporation|Scott F...</td>\n",
       "      <td>9/30/15</td>\n",
       "      <td>4572</td>\n",
       "      <td>7.6</td>\n",
       "      <td>2015</td>\n",
       "      <td>9.935996e+07</td>\n",
       "      <td>5.477497e+08</td>\n",
       "    </tr>\n",
       "    <tr>\n",
       "      <th>8</th>\n",
       "      <td>211672</td>\n",
       "      <td>tt2293640</td>\n",
       "      <td>7.404165</td>\n",
       "      <td>74000000</td>\n",
       "      <td>1156730962</td>\n",
       "      <td>Minions</td>\n",
       "      <td>Sandra Bullock|Jon Hamm|Michael Keaton|Allison...</td>\n",
       "      <td>http://www.minionsmovie.com/</td>\n",
       "      <td>Kyle Balda|Pierre Coffin</td>\n",
       "      <td>Before Gru, they had a history of bad bosses</td>\n",
       "      <td>...</td>\n",
       "      <td>Minions Stuart, Kevin and Bob are recruited by...</td>\n",
       "      <td>91</td>\n",
       "      <td>Family|Animation|Adventure|Comedy</td>\n",
       "      <td>Universal Pictures|Illumination Entertainment</td>\n",
       "      <td>6/17/15</td>\n",
       "      <td>2893</td>\n",
       "      <td>6.5</td>\n",
       "      <td>2015</td>\n",
       "      <td>6.807997e+07</td>\n",
       "      <td>1.064192e+09</td>\n",
       "    </tr>\n",
       "    <tr>\n",
       "      <th>9</th>\n",
       "      <td>150540</td>\n",
       "      <td>tt2096673</td>\n",
       "      <td>6.326804</td>\n",
       "      <td>175000000</td>\n",
       "      <td>853708609</td>\n",
       "      <td>Inside Out</td>\n",
       "      <td>Amy Poehler|Phyllis Smith|Richard Kind|Bill Ha...</td>\n",
       "      <td>http://movies.disney.com/inside-out</td>\n",
       "      <td>Pete Docter</td>\n",
       "      <td>Meet the little voices inside your head.</td>\n",
       "      <td>...</td>\n",
       "      <td>Growing up can be a bumpy road, and it's no ex...</td>\n",
       "      <td>94</td>\n",
       "      <td>Comedy|Animation|Family</td>\n",
       "      <td>Walt Disney Pictures|Pixar Animation Studios|W...</td>\n",
       "      <td>6/9/15</td>\n",
       "      <td>3935</td>\n",
       "      <td>8.0</td>\n",
       "      <td>2015</td>\n",
       "      <td>1.609999e+08</td>\n",
       "      <td>7.854116e+08</td>\n",
       "    </tr>\n",
       "    <tr>\n",
       "      <th>10</th>\n",
       "      <td>206647</td>\n",
       "      <td>tt2379713</td>\n",
       "      <td>6.200282</td>\n",
       "      <td>245000000</td>\n",
       "      <td>880674609</td>\n",
       "      <td>Spectre</td>\n",
       "      <td>Daniel Craig|Christoph Waltz|LÃ©a Seydoux|Ralp...</td>\n",
       "      <td>http://www.sonypictures.com/movies/spectre/</td>\n",
       "      <td>Sam Mendes</td>\n",
       "      <td>A Plan No One Escapes</td>\n",
       "      <td>...</td>\n",
       "      <td>A cryptic message from Bondâ€™s past sends him...</td>\n",
       "      <td>148</td>\n",
       "      <td>Action|Adventure|Crime</td>\n",
       "      <td>Columbia Pictures|Danjaq|B24</td>\n",
       "      <td>10/26/15</td>\n",
       "      <td>3254</td>\n",
       "      <td>6.2</td>\n",
       "      <td>2015</td>\n",
       "      <td>2.253999e+08</td>\n",
       "      <td>8.102203e+08</td>\n",
       "    </tr>\n",
       "    <tr>\n",
       "      <th>11</th>\n",
       "      <td>76757</td>\n",
       "      <td>tt1617661</td>\n",
       "      <td>6.189369</td>\n",
       "      <td>176000003</td>\n",
       "      <td>183987723</td>\n",
       "      <td>Jupiter Ascending</td>\n",
       "      <td>Mila Kunis|Channing Tatum|Sean Bean|Eddie Redm...</td>\n",
       "      <td>http://www.jupiterascending.com</td>\n",
       "      <td>Lana Wachowski|Lilly Wachowski</td>\n",
       "      <td>Expand your universe.</td>\n",
       "      <td>...</td>\n",
       "      <td>In a universe where human genetic material is ...</td>\n",
       "      <td>124</td>\n",
       "      <td>Science Fiction|Fantasy|Action|Adventure</td>\n",
       "      <td>Village Roadshow Pictures|Dune Entertainment|A...</td>\n",
       "      <td>2/4/15</td>\n",
       "      <td>1937</td>\n",
       "      <td>5.2</td>\n",
       "      <td>2015</td>\n",
       "      <td>1.619199e+08</td>\n",
       "      <td>1.692686e+08</td>\n",
       "    </tr>\n",
       "    <tr>\n",
       "      <th>12</th>\n",
       "      <td>264660</td>\n",
       "      <td>tt0470752</td>\n",
       "      <td>6.118847</td>\n",
       "      <td>15000000</td>\n",
       "      <td>36869414</td>\n",
       "      <td>Ex Machina</td>\n",
       "      <td>Domhnall Gleeson|Alicia Vikander|Oscar Isaac|S...</td>\n",
       "      <td>http://exmachina-movie.com/</td>\n",
       "      <td>Alex Garland</td>\n",
       "      <td>There is nothing more human than the will to s...</td>\n",
       "      <td>...</td>\n",
       "      <td>Caleb, a 26 year old coder at the world's larg...</td>\n",
       "      <td>108</td>\n",
       "      <td>Drama|Science Fiction</td>\n",
       "      <td>DNA Films|Universal Pictures International (UP...</td>\n",
       "      <td>1/21/15</td>\n",
       "      <td>2854</td>\n",
       "      <td>7.6</td>\n",
       "      <td>2015</td>\n",
       "      <td>1.379999e+07</td>\n",
       "      <td>3.391985e+07</td>\n",
       "    </tr>\n",
       "    <tr>\n",
       "      <th>13</th>\n",
       "      <td>257344</td>\n",
       "      <td>tt2120120</td>\n",
       "      <td>5.984995</td>\n",
       "      <td>88000000</td>\n",
       "      <td>243637091</td>\n",
       "      <td>Pixels</td>\n",
       "      <td>Adam Sandler|Michelle Monaghan|Peter Dinklage|...</td>\n",
       "      <td>http://www.pixels-movie.com/</td>\n",
       "      <td>Chris Columbus</td>\n",
       "      <td>Game On.</td>\n",
       "      <td>...</td>\n",
       "      <td>Video game experts are recruited by the milita...</td>\n",
       "      <td>105</td>\n",
       "      <td>Action|Comedy|Science Fiction</td>\n",
       "      <td>Columbia Pictures|Happy Madison Productions</td>\n",
       "      <td>7/16/15</td>\n",
       "      <td>1575</td>\n",
       "      <td>5.8</td>\n",
       "      <td>2015</td>\n",
       "      <td>8.095996e+07</td>\n",
       "      <td>2.241460e+08</td>\n",
       "    </tr>\n",
       "    <tr>\n",
       "      <th>14</th>\n",
       "      <td>99861</td>\n",
       "      <td>tt2395427</td>\n",
       "      <td>5.944927</td>\n",
       "      <td>280000000</td>\n",
       "      <td>1405035767</td>\n",
       "      <td>Avengers: Age of Ultron</td>\n",
       "      <td>Robert Downey Jr.|Chris Hemsworth|Mark Ruffalo...</td>\n",
       "      <td>http://marvel.com/movies/movie/193/avengers_ag...</td>\n",
       "      <td>Joss Whedon</td>\n",
       "      <td>A New Age Has Come.</td>\n",
       "      <td>...</td>\n",
       "      <td>When Tony Stark tries to jumpstart a dormant p...</td>\n",
       "      <td>141</td>\n",
       "      <td>Action|Adventure|Science Fiction</td>\n",
       "      <td>Marvel Studios|Prime Focus|Revolution Sun Studios</td>\n",
       "      <td>4/22/15</td>\n",
       "      <td>4304</td>\n",
       "      <td>7.4</td>\n",
       "      <td>2015</td>\n",
       "      <td>2.575999e+08</td>\n",
       "      <td>1.292632e+09</td>\n",
       "    </tr>\n",
       "    <tr>\n",
       "      <th>15</th>\n",
       "      <td>273248</td>\n",
       "      <td>tt3460252</td>\n",
       "      <td>5.898400</td>\n",
       "      <td>44000000</td>\n",
       "      <td>155760117</td>\n",
       "      <td>The Hateful Eight</td>\n",
       "      <td>Samuel L. Jackson|Kurt Russell|Jennifer Jason ...</td>\n",
       "      <td>http://thehatefuleight.com/</td>\n",
       "      <td>Quentin Tarantino</td>\n",
       "      <td>No one comes up here without a damn good reason.</td>\n",
       "      <td>...</td>\n",
       "      <td>Bounty hunters seek shelter from a raging bliz...</td>\n",
       "      <td>167</td>\n",
       "      <td>Crime|Drama|Mystery|Western</td>\n",
       "      <td>Double Feature Films|The Weinstein Company|Fil...</td>\n",
       "      <td>12/25/15</td>\n",
       "      <td>2389</td>\n",
       "      <td>7.4</td>\n",
       "      <td>2015</td>\n",
       "      <td>4.047998e+07</td>\n",
       "      <td>1.432992e+08</td>\n",
       "    </tr>\n",
       "    <tr>\n",
       "      <th>16</th>\n",
       "      <td>260346</td>\n",
       "      <td>tt2446042</td>\n",
       "      <td>5.749758</td>\n",
       "      <td>48000000</td>\n",
       "      <td>325771424</td>\n",
       "      <td>Taken 3</td>\n",
       "      <td>Liam Neeson|Forest Whitaker|Maggie Grace|Famke...</td>\n",
       "      <td>http://www.taken3movie.com/</td>\n",
       "      <td>Olivier Megaton</td>\n",
       "      <td>It Ends Here</td>\n",
       "      <td>...</td>\n",
       "      <td>Ex-government operative Bryan Mills finds his ...</td>\n",
       "      <td>109</td>\n",
       "      <td>Crime|Action|Thriller</td>\n",
       "      <td>Twentieth Century Fox Film Corporation|M6 Film...</td>\n",
       "      <td>1/1/15</td>\n",
       "      <td>1578</td>\n",
       "      <td>6.1</td>\n",
       "      <td>2015</td>\n",
       "      <td>4.415998e+07</td>\n",
       "      <td>2.997096e+08</td>\n",
       "    </tr>\n",
       "    <tr>\n",
       "      <th>17</th>\n",
       "      <td>102899</td>\n",
       "      <td>tt0478970</td>\n",
       "      <td>5.573184</td>\n",
       "      <td>130000000</td>\n",
       "      <td>518602163</td>\n",
       "      <td>Ant-Man</td>\n",
       "      <td>Paul Rudd|Michael Douglas|Evangeline Lilly|Cor...</td>\n",
       "      <td>http://marvel.com/movies/movie/180/ant-man</td>\n",
       "      <td>Peyton Reed</td>\n",
       "      <td>Heroes Don't Get Any Bigger</td>\n",
       "      <td>...</td>\n",
       "      <td>Armed with the astonishing ability to shrink i...</td>\n",
       "      <td>115</td>\n",
       "      <td>Science Fiction|Action|Adventure</td>\n",
       "      <td>Marvel Studios</td>\n",
       "      <td>7/14/15</td>\n",
       "      <td>3779</td>\n",
       "      <td>7.0</td>\n",
       "      <td>2015</td>\n",
       "      <td>1.195999e+08</td>\n",
       "      <td>4.771138e+08</td>\n",
       "    </tr>\n",
       "    <tr>\n",
       "      <th>18</th>\n",
       "      <td>150689</td>\n",
       "      <td>tt1661199</td>\n",
       "      <td>5.556818</td>\n",
       "      <td>95000000</td>\n",
       "      <td>542351353</td>\n",
       "      <td>Cinderella</td>\n",
       "      <td>Lily James|Cate Blanchett|Richard Madden|Helen...</td>\n",
       "      <td>NaN</td>\n",
       "      <td>Kenneth Branagh</td>\n",
       "      <td>Midnight is just the beginning.</td>\n",
       "      <td>...</td>\n",
       "      <td>When her father unexpectedly passes away, youn...</td>\n",
       "      <td>112</td>\n",
       "      <td>Romance|Fantasy|Family|Drama</td>\n",
       "      <td>Walt Disney Pictures|Genre Films|Beagle Pug Fi...</td>\n",
       "      <td>3/12/15</td>\n",
       "      <td>1495</td>\n",
       "      <td>6.8</td>\n",
       "      <td>2015</td>\n",
       "      <td>8.739996e+07</td>\n",
       "      <td>4.989630e+08</td>\n",
       "    </tr>\n",
       "    <tr>\n",
       "      <th>19</th>\n",
       "      <td>131634</td>\n",
       "      <td>tt1951266</td>\n",
       "      <td>5.476958</td>\n",
       "      <td>160000000</td>\n",
       "      <td>650523427</td>\n",
       "      <td>The Hunger Games: Mockingjay - Part 2</td>\n",
       "      <td>Jennifer Lawrence|Josh Hutcherson|Liam Hemswor...</td>\n",
       "      <td>http://www.thehungergames.movie/</td>\n",
       "      <td>Francis Lawrence</td>\n",
       "      <td>The fire will burn forever.</td>\n",
       "      <td>...</td>\n",
       "      <td>With the nation of Panem in a full scale war, ...</td>\n",
       "      <td>136</td>\n",
       "      <td>War|Adventure|Science Fiction</td>\n",
       "      <td>Studio Babelsberg|StudioCanal|Lionsgate|Walt D...</td>\n",
       "      <td>11/18/15</td>\n",
       "      <td>2380</td>\n",
       "      <td>6.5</td>\n",
       "      <td>2015</td>\n",
       "      <td>1.471999e+08</td>\n",
       "      <td>5.984813e+08</td>\n",
       "    </tr>\n",
       "  </tbody>\n",
       "</table>\n",
       "<p>20 rows × 21 columns</p>\n",
       "</div>"
      ],
      "text/plain": [
       "        id    imdb_id  popularity     budget     revenue  \\\n",
       "0   135397  tt0369610   32.985763  150000000  1513528810   \n",
       "1    76341  tt1392190   28.419936  150000000   378436354   \n",
       "2   262500  tt2908446   13.112507  110000000   295238201   \n",
       "3   140607  tt2488496   11.173104  200000000  2068178225   \n",
       "4   168259  tt2820852    9.335014  190000000  1506249360   \n",
       "5   281957  tt1663202    9.110700  135000000   532950503   \n",
       "6    87101  tt1340138    8.654359  155000000   440603537   \n",
       "7   286217  tt3659388    7.667400  108000000   595380321   \n",
       "8   211672  tt2293640    7.404165   74000000  1156730962   \n",
       "9   150540  tt2096673    6.326804  175000000   853708609   \n",
       "10  206647  tt2379713    6.200282  245000000   880674609   \n",
       "11   76757  tt1617661    6.189369  176000003   183987723   \n",
       "12  264660  tt0470752    6.118847   15000000    36869414   \n",
       "13  257344  tt2120120    5.984995   88000000   243637091   \n",
       "14   99861  tt2395427    5.944927  280000000  1405035767   \n",
       "15  273248  tt3460252    5.898400   44000000   155760117   \n",
       "16  260346  tt2446042    5.749758   48000000   325771424   \n",
       "17  102899  tt0478970    5.573184  130000000   518602163   \n",
       "18  150689  tt1661199    5.556818   95000000   542351353   \n",
       "19  131634  tt1951266    5.476958  160000000   650523427   \n",
       "\n",
       "                           original_title  \\\n",
       "0                          Jurassic World   \n",
       "1                      Mad Max: Fury Road   \n",
       "2                               Insurgent   \n",
       "3            Star Wars: The Force Awakens   \n",
       "4                               Furious 7   \n",
       "5                            The Revenant   \n",
       "6                      Terminator Genisys   \n",
       "7                             The Martian   \n",
       "8                                 Minions   \n",
       "9                              Inside Out   \n",
       "10                                Spectre   \n",
       "11                      Jupiter Ascending   \n",
       "12                             Ex Machina   \n",
       "13                                 Pixels   \n",
       "14                Avengers: Age of Ultron   \n",
       "15                      The Hateful Eight   \n",
       "16                                Taken 3   \n",
       "17                                Ant-Man   \n",
       "18                             Cinderella   \n",
       "19  The Hunger Games: Mockingjay - Part 2   \n",
       "\n",
       "                                                 cast  \\\n",
       "0   Chris Pratt|Bryce Dallas Howard|Irrfan Khan|Vi...   \n",
       "1   Tom Hardy|Charlize Theron|Hugh Keays-Byrne|Nic...   \n",
       "2   Shailene Woodley|Theo James|Kate Winslet|Ansel...   \n",
       "3   Harrison Ford|Mark Hamill|Carrie Fisher|Adam D...   \n",
       "4   Vin Diesel|Paul Walker|Jason Statham|Michelle ...   \n",
       "5   Leonardo DiCaprio|Tom Hardy|Will Poulter|Domhn...   \n",
       "6   Arnold Schwarzenegger|Jason Clarke|Emilia Clar...   \n",
       "7   Matt Damon|Jessica Chastain|Kristen Wiig|Jeff ...   \n",
       "8   Sandra Bullock|Jon Hamm|Michael Keaton|Allison...   \n",
       "9   Amy Poehler|Phyllis Smith|Richard Kind|Bill Ha...   \n",
       "10  Daniel Craig|Christoph Waltz|LÃ©a Seydoux|Ralp...   \n",
       "11  Mila Kunis|Channing Tatum|Sean Bean|Eddie Redm...   \n",
       "12  Domhnall Gleeson|Alicia Vikander|Oscar Isaac|S...   \n",
       "13  Adam Sandler|Michelle Monaghan|Peter Dinklage|...   \n",
       "14  Robert Downey Jr.|Chris Hemsworth|Mark Ruffalo...   \n",
       "15  Samuel L. Jackson|Kurt Russell|Jennifer Jason ...   \n",
       "16  Liam Neeson|Forest Whitaker|Maggie Grace|Famke...   \n",
       "17  Paul Rudd|Michael Douglas|Evangeline Lilly|Cor...   \n",
       "18  Lily James|Cate Blanchett|Richard Madden|Helen...   \n",
       "19  Jennifer Lawrence|Josh Hutcherson|Liam Hemswor...   \n",
       "\n",
       "                                             homepage  \\\n",
       "0                       http://www.jurassicworld.com/   \n",
       "1                         http://www.madmaxmovie.com/   \n",
       "2      http://www.thedivergentseries.movie/#insurgent   \n",
       "3   http://www.starwars.com/films/star-wars-episod...   \n",
       "4                            http://www.furious7.com/   \n",
       "5        http://www.foxmovies.com/movies/the-revenant   \n",
       "6                     http://www.terminatormovie.com/   \n",
       "7         http://www.foxmovies.com/movies/the-martian   \n",
       "8                        http://www.minionsmovie.com/   \n",
       "9                 http://movies.disney.com/inside-out   \n",
       "10        http://www.sonypictures.com/movies/spectre/   \n",
       "11                    http://www.jupiterascending.com   \n",
       "12                        http://exmachina-movie.com/   \n",
       "13                       http://www.pixels-movie.com/   \n",
       "14  http://marvel.com/movies/movie/193/avengers_ag...   \n",
       "15                        http://thehatefuleight.com/   \n",
       "16                        http://www.taken3movie.com/   \n",
       "17         http://marvel.com/movies/movie/180/ant-man   \n",
       "18                                                NaN   \n",
       "19                   http://www.thehungergames.movie/   \n",
       "\n",
       "                          director  \\\n",
       "0                  Colin Trevorrow   \n",
       "1                    George Miller   \n",
       "2                 Robert Schwentke   \n",
       "3                      J.J. Abrams   \n",
       "4                        James Wan   \n",
       "5   Alejandro GonzÃ¡lez IÃ±Ã¡rritu   \n",
       "6                      Alan Taylor   \n",
       "7                     Ridley Scott   \n",
       "8         Kyle Balda|Pierre Coffin   \n",
       "9                      Pete Docter   \n",
       "10                      Sam Mendes   \n",
       "11  Lana Wachowski|Lilly Wachowski   \n",
       "12                    Alex Garland   \n",
       "13                  Chris Columbus   \n",
       "14                     Joss Whedon   \n",
       "15               Quentin Tarantino   \n",
       "16                 Olivier Megaton   \n",
       "17                     Peyton Reed   \n",
       "18                 Kenneth Branagh   \n",
       "19                Francis Lawrence   \n",
       "\n",
       "                                              tagline  ...  \\\n",
       "0                                   The park is open.  ...   \n",
       "1                                  What a Lovely Day.  ...   \n",
       "2                          One Choice Can Destroy You  ...   \n",
       "3                       Every generation has a story.  ...   \n",
       "4                                 Vengeance Hits Home  ...   \n",
       "5     (n. One who has returned, as if from the dead.)  ...   \n",
       "6                                    Reset the future  ...   \n",
       "7                                      Bring Him Home  ...   \n",
       "8        Before Gru, they had a history of bad bosses  ...   \n",
       "9            Meet the little voices inside your head.  ...   \n",
       "10                              A Plan No One Escapes  ...   \n",
       "11                              Expand your universe.  ...   \n",
       "12  There is nothing more human than the will to s...  ...   \n",
       "13                                           Game On.  ...   \n",
       "14                                A New Age Has Come.  ...   \n",
       "15   No one comes up here without a damn good reason.  ...   \n",
       "16                                       It Ends Here  ...   \n",
       "17                        Heroes Don't Get Any Bigger  ...   \n",
       "18                    Midnight is just the beginning.  ...   \n",
       "19                        The fire will burn forever.  ...   \n",
       "\n",
       "                                             overview runtime  \\\n",
       "0   Twenty-two years after the events of Jurassic ...     124   \n",
       "1   An apocalyptic story set in the furthest reach...     120   \n",
       "2   Beatrice Prior must confront her inner demons ...     119   \n",
       "3   Thirty years after defeating the Galactic Empi...     136   \n",
       "4   Deckard Shaw seeks revenge against Dominic Tor...     137   \n",
       "5   In the 1820s, a frontiersman, Hugh Glass, sets...     156   \n",
       "6   The year is 2029. John Connor, leader of the r...     125   \n",
       "7   During a manned mission to Mars, Astronaut Mar...     141   \n",
       "8   Minions Stuart, Kevin and Bob are recruited by...      91   \n",
       "9   Growing up can be a bumpy road, and it's no ex...      94   \n",
       "10  A cryptic message from Bondâ€™s past sends him...     148   \n",
       "11  In a universe where human genetic material is ...     124   \n",
       "12  Caleb, a 26 year old coder at the world's larg...     108   \n",
       "13  Video game experts are recruited by the milita...     105   \n",
       "14  When Tony Stark tries to jumpstart a dormant p...     141   \n",
       "15  Bounty hunters seek shelter from a raging bliz...     167   \n",
       "16  Ex-government operative Bryan Mills finds his ...     109   \n",
       "17  Armed with the astonishing ability to shrink i...     115   \n",
       "18  When her father unexpectedly passes away, youn...     112   \n",
       "19  With the nation of Panem in a full scale war, ...     136   \n",
       "\n",
       "                                       genres  \\\n",
       "0   Action|Adventure|Science Fiction|Thriller   \n",
       "1   Action|Adventure|Science Fiction|Thriller   \n",
       "2          Adventure|Science Fiction|Thriller   \n",
       "3    Action|Adventure|Science Fiction|Fantasy   \n",
       "4                       Action|Crime|Thriller   \n",
       "5            Western|Drama|Adventure|Thriller   \n",
       "6   Science Fiction|Action|Thriller|Adventure   \n",
       "7             Drama|Adventure|Science Fiction   \n",
       "8           Family|Animation|Adventure|Comedy   \n",
       "9                     Comedy|Animation|Family   \n",
       "10                     Action|Adventure|Crime   \n",
       "11   Science Fiction|Fantasy|Action|Adventure   \n",
       "12                      Drama|Science Fiction   \n",
       "13              Action|Comedy|Science Fiction   \n",
       "14           Action|Adventure|Science Fiction   \n",
       "15                Crime|Drama|Mystery|Western   \n",
       "16                      Crime|Action|Thriller   \n",
       "17           Science Fiction|Action|Adventure   \n",
       "18               Romance|Fantasy|Family|Drama   \n",
       "19              War|Adventure|Science Fiction   \n",
       "\n",
       "                                 production_companies release_date vote_count  \\\n",
       "0   Universal Studios|Amblin Entertainment|Legenda...       6/9/15       5562   \n",
       "1   Village Roadshow Pictures|Kennedy Miller Produ...      5/13/15       6185   \n",
       "2   Summit Entertainment|Mandeville Films|Red Wago...      3/18/15       2480   \n",
       "3           Lucasfilm|Truenorth Productions|Bad Robot     12/15/15       5292   \n",
       "4   Universal Pictures|Original Film|Media Rights ...       4/1/15       2947   \n",
       "5   Regency Enterprises|Appian Way|CatchPlay|Anony...     12/25/15       3929   \n",
       "6             Paramount Pictures|Skydance Productions      6/23/15       2598   \n",
       "7   Twentieth Century Fox Film Corporation|Scott F...      9/30/15       4572   \n",
       "8       Universal Pictures|Illumination Entertainment      6/17/15       2893   \n",
       "9   Walt Disney Pictures|Pixar Animation Studios|W...       6/9/15       3935   \n",
       "10                       Columbia Pictures|Danjaq|B24     10/26/15       3254   \n",
       "11  Village Roadshow Pictures|Dune Entertainment|A...       2/4/15       1937   \n",
       "12  DNA Films|Universal Pictures International (UP...      1/21/15       2854   \n",
       "13        Columbia Pictures|Happy Madison Productions      7/16/15       1575   \n",
       "14  Marvel Studios|Prime Focus|Revolution Sun Studios      4/22/15       4304   \n",
       "15  Double Feature Films|The Weinstein Company|Fil...     12/25/15       2389   \n",
       "16  Twentieth Century Fox Film Corporation|M6 Film...       1/1/15       1578   \n",
       "17                                     Marvel Studios      7/14/15       3779   \n",
       "18  Walt Disney Pictures|Genre Films|Beagle Pug Fi...      3/12/15       1495   \n",
       "19  Studio Babelsberg|StudioCanal|Lionsgate|Walt D...     11/18/15       2380   \n",
       "\n",
       "    vote_average  release_year    budget_adj   revenue_adj  \n",
       "0            6.5          2015  1.379999e+08  1.392446e+09  \n",
       "1            7.1          2015  1.379999e+08  3.481613e+08  \n",
       "2            6.3          2015  1.012000e+08  2.716190e+08  \n",
       "3            7.5          2015  1.839999e+08  1.902723e+09  \n",
       "4            7.3          2015  1.747999e+08  1.385749e+09  \n",
       "5            7.2          2015  1.241999e+08  4.903142e+08  \n",
       "6            5.8          2015  1.425999e+08  4.053551e+08  \n",
       "7            7.6          2015  9.935996e+07  5.477497e+08  \n",
       "8            6.5          2015  6.807997e+07  1.064192e+09  \n",
       "9            8.0          2015  1.609999e+08  7.854116e+08  \n",
       "10           6.2          2015  2.253999e+08  8.102203e+08  \n",
       "11           5.2          2015  1.619199e+08  1.692686e+08  \n",
       "12           7.6          2015  1.379999e+07  3.391985e+07  \n",
       "13           5.8          2015  8.095996e+07  2.241460e+08  \n",
       "14           7.4          2015  2.575999e+08  1.292632e+09  \n",
       "15           7.4          2015  4.047998e+07  1.432992e+08  \n",
       "16           6.1          2015  4.415998e+07  2.997096e+08  \n",
       "17           7.0          2015  1.195999e+08  4.771138e+08  \n",
       "18           6.8          2015  8.739996e+07  4.989630e+08  \n",
       "19           6.5          2015  1.471999e+08  5.984813e+08  \n",
       "\n",
       "[20 rows x 21 columns]"
      ]
     },
     "execution_count": 2,
     "metadata": {},
     "output_type": "execute_result"
    }
   ],
   "source": [
    "# Load your data and print out a few lines\n",
    "df = pd.read_csv('tmdb-movies.csv')\n",
    "df.head(20)"
   ]
  },
  {
   "cell_type": "markdown",
   "metadata": {},
   "source": [
    "Checking the general properties of the dataset:\n",
    "\n",
    "\n",
    "\n",
    "\n",
    "\n",
    "\n",
    "\n",
    "\n",
    "\n",
    "\n",
    "\n",
    "\n",
    "\n",
    "\n",
    "Perform operations to inspect data types and look for instances of missing or possibly errant data.\n",
    "\n",
    "\n"
   ]
  },
  {
   "cell_type": "code",
   "execution_count": 3,
   "metadata": {
    "scrolled": false
   },
   "outputs": [
    {
     "name": "stdout",
     "output_type": "stream",
     "text": [
      "<class 'pandas.core.frame.DataFrame'>\n",
      "RangeIndex: 10866 entries, 0 to 10865\n",
      "Data columns (total 21 columns):\n",
      " #   Column                Non-Null Count  Dtype  \n",
      "---  ------                --------------  -----  \n",
      " 0   id                    10866 non-null  int64  \n",
      " 1   imdb_id               10856 non-null  object \n",
      " 2   popularity            10866 non-null  float64\n",
      " 3   budget                10866 non-null  int64  \n",
      " 4   revenue               10866 non-null  int64  \n",
      " 5   original_title        10866 non-null  object \n",
      " 6   cast                  10790 non-null  object \n",
      " 7   homepage              2936 non-null   object \n",
      " 8   director              10822 non-null  object \n",
      " 9   tagline               8042 non-null   object \n",
      " 10  keywords              9373 non-null   object \n",
      " 11  overview              10862 non-null  object \n",
      " 12  runtime               10866 non-null  int64  \n",
      " 13  genres                10843 non-null  object \n",
      " 14  production_companies  9836 non-null   object \n",
      " 15  release_date          10866 non-null  object \n",
      " 16  vote_count            10866 non-null  int64  \n",
      " 17  vote_average          10866 non-null  float64\n",
      " 18  release_year          10866 non-null  int64  \n",
      " 19  budget_adj            10866 non-null  float64\n",
      " 20  revenue_adj           10866 non-null  float64\n",
      "dtypes: float64(4), int64(6), object(11)\n",
      "memory usage: 1.7+ MB\n"
     ]
    }
   ],
   "source": [
    "# Perform operations to inspect data types and look for instances of missing or possibly errant data.\n",
    "\n",
    "df.info()"
   ]
  },
  {
   "cell_type": "markdown",
   "metadata": {},
   "source": [
    "\n",
    "\n",
    "### Data Cleaning \n",
    "\n",
    "As we see in the previous section, the dataset contains multiple missing values, incorrect data types, and artifacts from the encoding-decoding process. <br>\n",
    "\n",
    "\n",
    "Our next steps should be:\n",
    "1. Checking the distribution of the missing values to determine if there are any patterns here or if they are considered MCAR\n",
    "2. Transforming incorrect data types to correct one\n",
    "3. Fixing encoding-decoding artifacts\n",
    "5. Checking for inadequate values and replacing them with NA to treat them as missing values\n",
    "6. Checking for duplicates\n",
    "7. Categorizing data and explode columns with lists\n",
    "8. Trim dataset"
   ]
  },
  {
   "cell_type": "markdown",
   "metadata": {},
   "source": [
    "#### Checking the distribution of the missing values.\n",
    "\n",
    "Checking the distribution of the missing values to determine if there are any patterns here or if they are considered MCAR\n"
   ]
  },
  {
   "cell_type": "code",
   "execution_count": 4,
   "metadata": {
    "scrolled": false
   },
   "outputs": [
    {
     "data": {
      "image/png": "[encoded data removed]",
      "text/plain": [
       "<Figure size 2000x800 with 1 Axes>"
      ]
     },
     "metadata": {},
     "output_type": "display_data"
    }
   ],
   "source": [
    "#Checking the distribution of the missing values to determine if there are any patterns here or if they are considered MCAR\n",
    "\n",
    "rows_num = df.shape[0]\n",
    "na_values = (df.isna().sum() / rows_num) * 100\n",
    "\n",
    "plt.figure(figsize=(20, 8))\n",
    "sns.barplot(x=na_values.values, \n",
    "            y=na_values.index,\n",
    "           palette=sns.color_palette(\"viridis_r\", n_colors=len(na_values), as_cmap=True)(na_values.values))\n",
    "\n",
    "plt.title(\"Percentage of Missing Values in Each Column\\n\")\n",
    "plt.xlabel(\"Missing Values, %\")\n",
    "plt.ylabel(\"Columns\")\n",
    "plt.xticks(rotation=0)\n",
    "plt.grid(True)\n",
    "plt.show()"
   ]
  },
  {
   "cell_type": "markdown",
   "metadata": {},
   "source": [
    "The barplot above represents the distribution of the missing values across the dataset. The darker the color - the biggest percentage of the missing values presented in that column. Based on my experience, we can drop those rows if the missing value percentage is less than 10% (ideally less than 5%). However, dropping those columns is better if it's over 10%.\n",
    "\n",
    "`Kaggle` noted that `'homepage'`,`'id'`, `'original_title'`, `'overview'`, `'popularity'`, `'production_companies'`, `'release_date'`, `'tagline'`, `'vote_average'`, and `'keywords'` are new columns in that dataset. Since columns with the highest percentage of missing values are new, we can't describe them as MCAR. That type of missing value is called `Structurally missing`, which might indicate an improper data-gathering process. \n",
    "\n",
    "\n",
    "Also, `'imdb_id'`, `'cast'`, `'director'`, `'overview'`, and `'genres'` contain missing values. They weren't new columns, there are no patterns, and their impact is so little, so we can determine these values as MCAR and ignore them. Also, it is important to note that we can't replace those values with average, mode, or median since they are not \"classification\" columns and contain non-numerical values.\n",
    "\n",
    "Before checking other data, we need to drop the `'homepage'`, `'tagline'`, and `'keywords'` columns since their missing values percentage is extremely high. Also, we need to drop a `'release_year'`column since we can access the release year from the `'release_date'` column.\n"
   ]
  },
  {
   "cell_type": "code",
   "execution_count": 5,
   "metadata": {
    "scrolled": true
   },
   "outputs": [],
   "source": [
    "#drop `homepage`, `tagline`, and `keywords` columns\n",
    "df.drop(['homepage', 'tagline', 'keywords','release_year'], axis=1, inplace=True)"
   ]
  },
  {
   "cell_type": "markdown",
   "metadata": {},
   "source": [
    "Drop rows with missing values:\n"
   ]
  },
  {
   "cell_type": "code",
   "execution_count": 6,
   "metadata": {},
   "outputs": [],
   "source": [
    "#drop rows with missing values:\n",
    "df.dropna(inplace=True)"
   ]
  },
  {
   "cell_type": "markdown",
   "metadata": {},
   "source": [
    "Check the general properties of the dataset:"
   ]
  },
  {
   "cell_type": "code",
   "execution_count": 7,
   "metadata": {},
   "outputs": [
    {
     "name": "stdout",
     "output_type": "stream",
     "text": [
      "<class 'pandas.core.frame.DataFrame'>\n",
      "Int64Index: 9771 entries, 0 to 10865\n",
      "Data columns (total 17 columns):\n",
      " #   Column                Non-Null Count  Dtype  \n",
      "---  ------                --------------  -----  \n",
      " 0   id                    9771 non-null   int64  \n",
      " 1   imdb_id               9771 non-null   object \n",
      " 2   popularity            9771 non-null   float64\n",
      " 3   budget                9771 non-null   int64  \n",
      " 4   revenue               9771 non-null   int64  \n",
      " 5   original_title        9771 non-null   object \n",
      " 6   cast                  9771 non-null   object \n",
      " 7   director              9771 non-null   object \n",
      " 8   overview              9771 non-null   object \n",
      " 9   runtime               9771 non-null   int64  \n",
      " 10  genres                9771 non-null   object \n",
      " 11  production_companies  9771 non-null   object \n",
      " 12  release_date          9771 non-null   object \n",
      " 13  vote_count            9771 non-null   int64  \n",
      " 14  vote_average          9771 non-null   float64\n",
      " 15  budget_adj            9771 non-null   float64\n",
      " 16  revenue_adj           9771 non-null   float64\n",
      "dtypes: float64(4), int64(5), object(8)\n",
      "memory usage: 1.3+ MB\n"
     ]
    }
   ],
   "source": [
    "df.info()"
   ]
  },
  {
   "cell_type": "markdown",
   "metadata": {},
   "source": [
    "#### Data transformation\n",
    "\n",
    "Transforming incorrect data types to correct ones.\n",
    "\n",
    "1. `'release_date'` - convert to a date format\n",
    "2. `'budget_adj'`,`'revenue_adj'`, `'runtime'`- convert the scientific notation representation and float to an integer\n",
    "\n",
    "\n",
    "\n",
    "\n",
    "__1. `'release_date'` - convert to a date format__\n",
    "\n",
    "The original dataset values were presented as _\"month/day/last two digits of the year\"_. To fix that problem, we should create a function that will check the new value and determine if it is before 2015 or after 2015. All dates after 2015 should be converted to the format _\"19XX\"_.\n",
    "\n",
    " > <div class=\"alert alert-block alert-info\">\n",
    "<b>Note:</b> According to the specs, the earliest date is 1916, and the latest is 2015. Otherwise, that function will not be appropriate in that situation.\n",
    "</div>\n",
    "\n",
    "\n",
    "Creating a function:"
   ]
  },
  {
   "cell_type": "code",
   "execution_count": 8,
   "metadata": {},
   "outputs": [],
   "source": [
    "def adjust_year(date):\n",
    "    year = int(date[-2:])\n",
    "    if year <= 15:\n",
    "        return (date[:-2] + str(2000 + year))\n",
    "    else:\n",
    "        return (date[:-2] + str(1900 + year))"
   ]
  },
  {
   "cell_type": "markdown",
   "metadata": {},
   "source": [
    "Apply `adjust_year` function to the `\"release_date\"` column and convert string values to the date format:"
   ]
  },
  {
   "cell_type": "code",
   "execution_count": 9,
   "metadata": {
    "scrolled": true
   },
   "outputs": [],
   "source": [
    "#converting date to a date values\n",
    "df['release_date'] = pd.to_datetime(df['release_date'].apply(adjust_year), format='%m/%d/%Y')\n"
   ]
  },
  {
   "cell_type": "markdown",
   "metadata": {},
   "source": [
    "Print top 15 values to check if conversion was successfull:"
   ]
  },
  {
   "cell_type": "code",
   "execution_count": 10,
   "metadata": {},
   "outputs": [
    {
     "data": {
      "text/plain": [
       "0    2015-06-09\n",
       "1    2015-05-13\n",
       "2    2015-03-18\n",
       "3    2015-12-15\n",
       "4    2015-04-01\n",
       "5    2015-12-25\n",
       "6    2015-06-23\n",
       "7    2015-09-30\n",
       "8    2015-06-17\n",
       "9    2015-06-09\n",
       "10   2015-10-26\n",
       "11   2015-02-04\n",
       "12   2015-01-21\n",
       "13   2015-07-16\n",
       "14   2015-04-22\n",
       "Name: release_date, dtype: datetime64[ns]"
      ]
     },
     "execution_count": 10,
     "metadata": {},
     "output_type": "execute_result"
    }
   ],
   "source": [
    "df[\"release_date\"].head(15)\n"
   ]
  },
  {
   "cell_type": "markdown",
   "metadata": {},
   "source": [
    "Print bottom 15 rows to check if conversion was succsessfull "
   ]
  },
  {
   "cell_type": "code",
   "execution_count": 11,
   "metadata": {},
   "outputs": [
    {
     "data": {
      "text/plain": [
       "10850   1966-02-23\n",
       "10851   1966-06-22\n",
       "10852   1966-05-31\n",
       "10854   1966-02-17\n",
       "10855   1966-01-20\n",
       "10856   1966-02-16\n",
       "10857   1966-06-10\n",
       "10858   1966-05-25\n",
       "10859   1966-10-05\n",
       "10860   1966-05-20\n",
       "10861   1966-06-15\n",
       "10862   1966-12-21\n",
       "10863   1966-01-01\n",
       "10864   1966-11-02\n",
       "10865   1966-11-15\n",
       "Name: release_date, dtype: datetime64[ns]"
      ]
     },
     "execution_count": 11,
     "metadata": {},
     "output_type": "execute_result"
    }
   ],
   "source": [
    "df[\"release_date\"].tail(15)"
   ]
  },
  {
   "cell_type": "markdown",
   "metadata": {},
   "source": [
    "The conversion was successful.\n",
    "\n",
    "__2. `'budget_adj'`,`'revenue_adj'`- convert the scientific notation representation to an integer__\n",
    "\n"
   ]
  },
  {
   "cell_type": "code",
   "execution_count": 12,
   "metadata": {
    "scrolled": true
   },
   "outputs": [],
   "source": [
    "#convert the scientific notation representation to an intege for budget_adj and revenue_adj\n",
    "\n",
    "df[[\"budget_adj\", \"revenue_adj\",'runtime']] = df[[\"budget_adj\", \"revenue_adj\",'runtime']].astype(int)\n",
    "\n"
   ]
  },
  {
   "cell_type": "markdown",
   "metadata": {},
   "source": [
    "Checking the first few rows to determine is the conversion was successfull"
   ]
  },
  {
   "cell_type": "code",
   "execution_count": 13,
   "metadata": {},
   "outputs": [
    {
     "data": {
      "text/html": [
       "<div>\n",
       "<style scoped>\n",
       "    .dataframe tbody tr th:only-of-type {\n",
       "        vertical-align: middle;\n",
       "    }\n",
       "\n",
       "    .dataframe tbody tr th {\n",
       "        vertical-align: top;\n",
       "    }\n",
       "\n",
       "    .dataframe thead th {\n",
       "        text-align: right;\n",
       "    }\n",
       "</style>\n",
       "<table border=\"1\" class=\"dataframe\">\n",
       "  <thead>\n",
       "    <tr style=\"text-align: right;\">\n",
       "      <th></th>\n",
       "      <th>budget_adj</th>\n",
       "      <th>revenue_adj</th>\n",
       "      <th>runtime</th>\n",
       "    </tr>\n",
       "  </thead>\n",
       "  <tbody>\n",
       "    <tr>\n",
       "      <th>0</th>\n",
       "      <td>137999939</td>\n",
       "      <td>1392445892</td>\n",
       "      <td>124</td>\n",
       "    </tr>\n",
       "    <tr>\n",
       "      <th>1</th>\n",
       "      <td>137999939</td>\n",
       "      <td>348161292</td>\n",
       "      <td>120</td>\n",
       "    </tr>\n",
       "    <tr>\n",
       "      <th>2</th>\n",
       "      <td>101199955</td>\n",
       "      <td>271619025</td>\n",
       "      <td>119</td>\n",
       "    </tr>\n",
       "    <tr>\n",
       "      <th>3</th>\n",
       "      <td>183999919</td>\n",
       "      <td>1902723129</td>\n",
       "      <td>136</td>\n",
       "    </tr>\n",
       "    <tr>\n",
       "      <th>4</th>\n",
       "      <td>174799923</td>\n",
       "      <td>1385748801</td>\n",
       "      <td>137</td>\n",
       "    </tr>\n",
       "  </tbody>\n",
       "</table>\n",
       "</div>"
      ],
      "text/plain": [
       "   budget_adj  revenue_adj  runtime\n",
       "0   137999939   1392445892      124\n",
       "1   137999939    348161292      120\n",
       "2   101199955    271619025      119\n",
       "3   183999919   1902723129      136\n",
       "4   174799923   1385748801      137"
      ]
     },
     "execution_count": 13,
     "metadata": {},
     "output_type": "execute_result"
    }
   ],
   "source": [
    "df[[\"budget_adj\", \"revenue_adj\",'runtime']].head()"
   ]
  },
  {
   "cell_type": "markdown",
   "metadata": {},
   "source": [
    "Conversion was successfull. \n",
    "\n",
    "Print the Dataset general information:"
   ]
  },
  {
   "cell_type": "code",
   "execution_count": 14,
   "metadata": {},
   "outputs": [
    {
     "name": "stdout",
     "output_type": "stream",
     "text": [
      "<class 'pandas.core.frame.DataFrame'>\n",
      "Int64Index: 9771 entries, 0 to 10865\n",
      "Data columns (total 17 columns):\n",
      " #   Column                Non-Null Count  Dtype         \n",
      "---  ------                --------------  -----         \n",
      " 0   id                    9771 non-null   int64         \n",
      " 1   imdb_id               9771 non-null   object        \n",
      " 2   popularity            9771 non-null   float64       \n",
      " 3   budget                9771 non-null   int64         \n",
      " 4   revenue               9771 non-null   int64         \n",
      " 5   original_title        9771 non-null   object        \n",
      " 6   cast                  9771 non-null   object        \n",
      " 7   director              9771 non-null   object        \n",
      " 8   overview              9771 non-null   object        \n",
      " 9   runtime               9771 non-null   int32         \n",
      " 10  genres                9771 non-null   object        \n",
      " 11  production_companies  9771 non-null   object        \n",
      " 12  release_date          9771 non-null   datetime64[ns]\n",
      " 13  vote_count            9771 non-null   int64         \n",
      " 14  vote_average          9771 non-null   float64       \n",
      " 15  budget_adj            9771 non-null   int32         \n",
      " 16  revenue_adj           9771 non-null   int32         \n",
      "dtypes: datetime64[ns](1), float64(2), int32(3), int64(4), object(7)\n",
      "memory usage: 1.2+ MB\n"
     ]
    }
   ],
   "source": [
    "df.info()"
   ]
  },
  {
   "cell_type": "markdown",
   "metadata": {},
   "source": [
    "#### Fixing encoding-decoding artifacts\n",
    "\n",
    "Strings that contain characters like `GonzÃ¡lez IÃ±Ã¡rritu` or `LÃ©a` are evidence of encoding-decoding artifacts. To convert such artifacts, we need to use the unicodedata library.\n",
    "\n",
    "\n",
    "First, we need to identify which columns contain those artifacts. To do that, we need to use the isascii() built-in function across all columns with string values.\n",
    "\n",
    "\n",
    "> <div class=\"alert alert-block alert-info\">\n",
    "<b>Note:</b> Please, note that isascii() function works only with Python v3.7 and above.\n",
    "</div>\n",
    "\n",
    "Creating the function:"
   ]
  },
  {
   "cell_type": "code",
   "execution_count": 15,
   "metadata": {},
   "outputs": [],
   "source": [
    "def artifacts_detector(df):\n",
    "    columns_w_artifacts = []\n",
    "    for column in df.columns:\n",
    "        for value in df[column]:\n",
    "            # check if the column contains strings and contains an artifacts. isascii() returns true if there is no artifacts\n",
    "            if isinstance(value, str) and not value.isascii():\n",
    "                columns_w_artifacts.append(column)\n",
    "                #using break insted of using a while loop and a counter will be more time-efficient\n",
    "                break\n",
    "    return columns_w_artifacts\n"
   ]
  },
  {
   "cell_type": "markdown",
   "metadata": {},
   "source": [
    "Apply that function, store the output in the `selected_columns` variable, and print it:"
   ]
  },
  {
   "cell_type": "code",
   "execution_count": 16,
   "metadata": {},
   "outputs": [
    {
     "name": "stdout",
     "output_type": "stream",
     "text": [
      "['original_title', 'cast', 'director', 'overview', 'production_companies']\n"
     ]
    }
   ],
   "source": [
    "selected_columns = artifacts_detector(df)\n",
    "print(selected_columns)"
   ]
  },
  {
   "cell_type": "markdown",
   "metadata": {},
   "source": [
    "Create a function that .normalize the string using a unicodedata module, then encodes all ASCII to UTF-8, and, since now that string contains only non-ASCII characters, decodes it back from UTF-8 to ASCII:\n",
    "> <div class=\"alert alert-block alert-info\">\n",
    "<b>Note:</b> All strings should be lower-case. We can change it later when we explode those columns.\n",
    "</div>"
   ]
  },
  {
   "cell_type": "code",
   "execution_count": 17,
   "metadata": {},
   "outputs": [],
   "source": [
    "def encode_decode_fix(value):\n",
    "    return unicodedata.normalize('NFD', value).encode('ascii', 'ignore').decode('utf-8').lower()"
   ]
  },
  {
   "cell_type": "markdown",
   "metadata": {},
   "source": [
    "Apply that function to all columns that contain artifacts:"
   ]
  },
  {
   "cell_type": "code",
   "execution_count": 18,
   "metadata": {},
   "outputs": [],
   "source": [
    "df[selected_columns] = df[selected_columns].applymap(encode_decode_fix)"
   ]
  },
  {
   "cell_type": "markdown",
   "metadata": {},
   "source": [
    "Run the `artifacts_detector`function to check if the issue was resolved:"
   ]
  },
  {
   "cell_type": "code",
   "execution_count": 19,
   "metadata": {
    "scrolled": true
   },
   "outputs": [
    {
     "name": "stdout",
     "output_type": "stream",
     "text": [
      "[]\n"
     ]
    }
   ],
   "source": [
    "selected_columns = artifacts_detector(df)\n",
    "print(selected_columns)"
   ]
  },
  {
   "cell_type": "code",
   "execution_count": 20,
   "metadata": {},
   "outputs": [
    {
     "data": {
      "text/html": [
       "<div>\n",
       "<style scoped>\n",
       "    .dataframe tbody tr th:only-of-type {\n",
       "        vertical-align: middle;\n",
       "    }\n",
       "\n",
       "    .dataframe tbody tr th {\n",
       "        vertical-align: top;\n",
       "    }\n",
       "\n",
       "    .dataframe thead th {\n",
       "        text-align: right;\n",
       "    }\n",
       "</style>\n",
       "<table border=\"1\" class=\"dataframe\">\n",
       "  <thead>\n",
       "    <tr style=\"text-align: right;\">\n",
       "      <th></th>\n",
       "      <th>id</th>\n",
       "      <th>imdb_id</th>\n",
       "      <th>popularity</th>\n",
       "      <th>budget</th>\n",
       "      <th>revenue</th>\n",
       "      <th>original_title</th>\n",
       "      <th>cast</th>\n",
       "      <th>director</th>\n",
       "      <th>overview</th>\n",
       "      <th>runtime</th>\n",
       "      <th>genres</th>\n",
       "      <th>production_companies</th>\n",
       "      <th>release_date</th>\n",
       "      <th>vote_count</th>\n",
       "      <th>vote_average</th>\n",
       "      <th>budget_adj</th>\n",
       "      <th>revenue_adj</th>\n",
       "    </tr>\n",
       "  </thead>\n",
       "  <tbody>\n",
       "    <tr>\n",
       "      <th>0</th>\n",
       "      <td>135397</td>\n",
       "      <td>tt0369610</td>\n",
       "      <td>32.985763</td>\n",
       "      <td>150000000</td>\n",
       "      <td>1513528810</td>\n",
       "      <td>jurassic world</td>\n",
       "      <td>chris pratt|bryce dallas howard|irrfan khan|vi...</td>\n",
       "      <td>colin trevorrow</td>\n",
       "      <td>twenty-two years after the events of jurassic ...</td>\n",
       "      <td>124</td>\n",
       "      <td>Action|Adventure|Science Fiction|Thriller</td>\n",
       "      <td>universal studios|amblin entertainment|legenda...</td>\n",
       "      <td>2015-06-09</td>\n",
       "      <td>5562</td>\n",
       "      <td>6.5</td>\n",
       "      <td>137999939</td>\n",
       "      <td>1392445892</td>\n",
       "    </tr>\n",
       "    <tr>\n",
       "      <th>1</th>\n",
       "      <td>76341</td>\n",
       "      <td>tt1392190</td>\n",
       "      <td>28.419936</td>\n",
       "      <td>150000000</td>\n",
       "      <td>378436354</td>\n",
       "      <td>mad max: fury road</td>\n",
       "      <td>tom hardy|charlize theron|hugh keays-byrne|nic...</td>\n",
       "      <td>george miller</td>\n",
       "      <td>an apocalyptic story set in the furthest reach...</td>\n",
       "      <td>120</td>\n",
       "      <td>Action|Adventure|Science Fiction|Thriller</td>\n",
       "      <td>village roadshow pictures|kennedy miller produ...</td>\n",
       "      <td>2015-05-13</td>\n",
       "      <td>6185</td>\n",
       "      <td>7.1</td>\n",
       "      <td>137999939</td>\n",
       "      <td>348161292</td>\n",
       "    </tr>\n",
       "    <tr>\n",
       "      <th>2</th>\n",
       "      <td>262500</td>\n",
       "      <td>tt2908446</td>\n",
       "      <td>13.112507</td>\n",
       "      <td>110000000</td>\n",
       "      <td>295238201</td>\n",
       "      <td>insurgent</td>\n",
       "      <td>shailene woodley|theo james|kate winslet|ansel...</td>\n",
       "      <td>robert schwentke</td>\n",
       "      <td>beatrice prior must confront her inner demons ...</td>\n",
       "      <td>119</td>\n",
       "      <td>Adventure|Science Fiction|Thriller</td>\n",
       "      <td>summit entertainment|mandeville films|red wago...</td>\n",
       "      <td>2015-03-18</td>\n",
       "      <td>2480</td>\n",
       "      <td>6.3</td>\n",
       "      <td>101199955</td>\n",
       "      <td>271619025</td>\n",
       "    </tr>\n",
       "    <tr>\n",
       "      <th>3</th>\n",
       "      <td>140607</td>\n",
       "      <td>tt2488496</td>\n",
       "      <td>11.173104</td>\n",
       "      <td>200000000</td>\n",
       "      <td>2068178225</td>\n",
       "      <td>star wars: the force awakens</td>\n",
       "      <td>harrison ford|mark hamill|carrie fisher|adam d...</td>\n",
       "      <td>j.j. abrams</td>\n",
       "      <td>thirty years after defeating the galactic empi...</td>\n",
       "      <td>136</td>\n",
       "      <td>Action|Adventure|Science Fiction|Fantasy</td>\n",
       "      <td>lucasfilm|truenorth productions|bad robot</td>\n",
       "      <td>2015-12-15</td>\n",
       "      <td>5292</td>\n",
       "      <td>7.5</td>\n",
       "      <td>183999919</td>\n",
       "      <td>1902723129</td>\n",
       "    </tr>\n",
       "    <tr>\n",
       "      <th>4</th>\n",
       "      <td>168259</td>\n",
       "      <td>tt2820852</td>\n",
       "      <td>9.335014</td>\n",
       "      <td>190000000</td>\n",
       "      <td>1506249360</td>\n",
       "      <td>furious 7</td>\n",
       "      <td>vin diesel|paul walker|jason statham|michelle ...</td>\n",
       "      <td>james wan</td>\n",
       "      <td>deckard shaw seeks revenge against dominic tor...</td>\n",
       "      <td>137</td>\n",
       "      <td>Action|Crime|Thriller</td>\n",
       "      <td>universal pictures|original film|media rights ...</td>\n",
       "      <td>2015-04-01</td>\n",
       "      <td>2947</td>\n",
       "      <td>7.3</td>\n",
       "      <td>174799923</td>\n",
       "      <td>1385748801</td>\n",
       "    </tr>\n",
       "    <tr>\n",
       "      <th>5</th>\n",
       "      <td>281957</td>\n",
       "      <td>tt1663202</td>\n",
       "      <td>9.110700</td>\n",
       "      <td>135000000</td>\n",
       "      <td>532950503</td>\n",
       "      <td>the revenant</td>\n",
       "      <td>leonardo dicaprio|tom hardy|will poulter|domhn...</td>\n",
       "      <td>alejandro gonzalez iaarritu</td>\n",
       "      <td>in the 1820s, a frontiersman, hugh glass, sets...</td>\n",
       "      <td>156</td>\n",
       "      <td>Western|Drama|Adventure|Thriller</td>\n",
       "      <td>regency enterprises|appian way|catchplay|anony...</td>\n",
       "      <td>2015-12-25</td>\n",
       "      <td>3929</td>\n",
       "      <td>7.2</td>\n",
       "      <td>124199945</td>\n",
       "      <td>490314247</td>\n",
       "    </tr>\n",
       "    <tr>\n",
       "      <th>6</th>\n",
       "      <td>87101</td>\n",
       "      <td>tt1340138</td>\n",
       "      <td>8.654359</td>\n",
       "      <td>155000000</td>\n",
       "      <td>440603537</td>\n",
       "      <td>terminator genisys</td>\n",
       "      <td>arnold schwarzenegger|jason clarke|emilia clar...</td>\n",
       "      <td>alan taylor</td>\n",
       "      <td>the year is 2029. john connor, leader of the r...</td>\n",
       "      <td>125</td>\n",
       "      <td>Science Fiction|Action|Thriller|Adventure</td>\n",
       "      <td>paramount pictures|skydance productions</td>\n",
       "      <td>2015-06-23</td>\n",
       "      <td>2598</td>\n",
       "      <td>5.8</td>\n",
       "      <td>142599937</td>\n",
       "      <td>405355075</td>\n",
       "    </tr>\n",
       "    <tr>\n",
       "      <th>7</th>\n",
       "      <td>286217</td>\n",
       "      <td>tt3659388</td>\n",
       "      <td>7.667400</td>\n",
       "      <td>108000000</td>\n",
       "      <td>595380321</td>\n",
       "      <td>the martian</td>\n",
       "      <td>matt damon|jessica chastain|kristen wiig|jeff ...</td>\n",
       "      <td>ridley scott</td>\n",
       "      <td>during a manned mission to mars, astronaut mar...</td>\n",
       "      <td>141</td>\n",
       "      <td>Drama|Adventure|Science Fiction</td>\n",
       "      <td>twentieth century fox film corporation|scott f...</td>\n",
       "      <td>2015-09-30</td>\n",
       "      <td>4572</td>\n",
       "      <td>7.6</td>\n",
       "      <td>99359956</td>\n",
       "      <td>547749654</td>\n",
       "    </tr>\n",
       "    <tr>\n",
       "      <th>8</th>\n",
       "      <td>211672</td>\n",
       "      <td>tt2293640</td>\n",
       "      <td>7.404165</td>\n",
       "      <td>74000000</td>\n",
       "      <td>1156730962</td>\n",
       "      <td>minions</td>\n",
       "      <td>sandra bullock|jon hamm|michael keaton|allison...</td>\n",
       "      <td>kyle balda|pierre coffin</td>\n",
       "      <td>minions stuart, kevin and bob are recruited by...</td>\n",
       "      <td>91</td>\n",
       "      <td>Family|Animation|Adventure|Comedy</td>\n",
       "      <td>universal pictures|illumination entertainment</td>\n",
       "      <td>2015-06-17</td>\n",
       "      <td>2893</td>\n",
       "      <td>6.5</td>\n",
       "      <td>68079970</td>\n",
       "      <td>1064192016</td>\n",
       "    </tr>\n",
       "    <tr>\n",
       "      <th>9</th>\n",
       "      <td>150540</td>\n",
       "      <td>tt2096673</td>\n",
       "      <td>6.326804</td>\n",
       "      <td>175000000</td>\n",
       "      <td>853708609</td>\n",
       "      <td>inside out</td>\n",
       "      <td>amy poehler|phyllis smith|richard kind|bill ha...</td>\n",
       "      <td>pete docter</td>\n",
       "      <td>growing up can be a bumpy road, and it's no ex...</td>\n",
       "      <td>94</td>\n",
       "      <td>Comedy|Animation|Family</td>\n",
       "      <td>walt disney pictures|pixar animation studios|w...</td>\n",
       "      <td>2015-06-09</td>\n",
       "      <td>3935</td>\n",
       "      <td>8.0</td>\n",
       "      <td>160999929</td>\n",
       "      <td>785411574</td>\n",
       "    </tr>\n",
       "    <tr>\n",
       "      <th>10</th>\n",
       "      <td>206647</td>\n",
       "      <td>tt2379713</td>\n",
       "      <td>6.200282</td>\n",
       "      <td>245000000</td>\n",
       "      <td>880674609</td>\n",
       "      <td>spectre</td>\n",
       "      <td>daniel craig|christoph waltz|laa seydoux|ralph...</td>\n",
       "      <td>sam mendes</td>\n",
       "      <td>a cryptic message from bondas past sends him o...</td>\n",
       "      <td>148</td>\n",
       "      <td>Action|Adventure|Crime</td>\n",
       "      <td>columbia pictures|danjaq|b24</td>\n",
       "      <td>2015-10-26</td>\n",
       "      <td>3254</td>\n",
       "      <td>6.2</td>\n",
       "      <td>225399900</td>\n",
       "      <td>810220283</td>\n",
       "    </tr>\n",
       "    <tr>\n",
       "      <th>11</th>\n",
       "      <td>76757</td>\n",
       "      <td>tt1617661</td>\n",
       "      <td>6.189369</td>\n",
       "      <td>176000003</td>\n",
       "      <td>183987723</td>\n",
       "      <td>jupiter ascending</td>\n",
       "      <td>mila kunis|channing tatum|sean bean|eddie redm...</td>\n",
       "      <td>lana wachowski|lilly wachowski</td>\n",
       "      <td>in a universe where human genetic material is ...</td>\n",
       "      <td>124</td>\n",
       "      <td>Science Fiction|Fantasy|Action|Adventure</td>\n",
       "      <td>village roadshow pictures|dune entertainment|a...</td>\n",
       "      <td>2015-02-04</td>\n",
       "      <td>1937</td>\n",
       "      <td>5.2</td>\n",
       "      <td>161919931</td>\n",
       "      <td>169268630</td>\n",
       "    </tr>\n",
       "    <tr>\n",
       "      <th>12</th>\n",
       "      <td>264660</td>\n",
       "      <td>tt0470752</td>\n",
       "      <td>6.118847</td>\n",
       "      <td>15000000</td>\n",
       "      <td>36869414</td>\n",
       "      <td>ex machina</td>\n",
       "      <td>domhnall gleeson|alicia vikander|oscar isaac|s...</td>\n",
       "      <td>alex garland</td>\n",
       "      <td>caleb, a 26 year old coder at the world's larg...</td>\n",
       "      <td>108</td>\n",
       "      <td>Drama|Science Fiction</td>\n",
       "      <td>dna films|universal pictures international (up...</td>\n",
       "      <td>2015-01-21</td>\n",
       "      <td>2854</td>\n",
       "      <td>7.6</td>\n",
       "      <td>13799993</td>\n",
       "      <td>33919845</td>\n",
       "    </tr>\n",
       "    <tr>\n",
       "      <th>13</th>\n",
       "      <td>257344</td>\n",
       "      <td>tt2120120</td>\n",
       "      <td>5.984995</td>\n",
       "      <td>88000000</td>\n",
       "      <td>243637091</td>\n",
       "      <td>pixels</td>\n",
       "      <td>adam sandler|michelle monaghan|peter dinklage|...</td>\n",
       "      <td>chris columbus</td>\n",
       "      <td>video game experts are recruited by the milita...</td>\n",
       "      <td>105</td>\n",
       "      <td>Action|Comedy|Science Fiction</td>\n",
       "      <td>columbia pictures|happy madison productions</td>\n",
       "      <td>2015-07-16</td>\n",
       "      <td>1575</td>\n",
       "      <td>5.8</td>\n",
       "      <td>80959964</td>\n",
       "      <td>224146025</td>\n",
       "    </tr>\n",
       "    <tr>\n",
       "      <th>14</th>\n",
       "      <td>99861</td>\n",
       "      <td>tt2395427</td>\n",
       "      <td>5.944927</td>\n",
       "      <td>280000000</td>\n",
       "      <td>1405035767</td>\n",
       "      <td>avengers: age of ultron</td>\n",
       "      <td>robert downey jr.|chris hemsworth|mark ruffalo...</td>\n",
       "      <td>joss whedon</td>\n",
       "      <td>when tony stark tries to jumpstart a dormant p...</td>\n",
       "      <td>141</td>\n",
       "      <td>Action|Adventure|Science Fiction</td>\n",
       "      <td>marvel studios|prime focus|revolution sun studios</td>\n",
       "      <td>2015-04-22</td>\n",
       "      <td>4304</td>\n",
       "      <td>7.4</td>\n",
       "      <td>257599886</td>\n",
       "      <td>1292632336</td>\n",
       "    </tr>\n",
       "  </tbody>\n",
       "</table>\n",
       "</div>"
      ],
      "text/plain": [
       "        id    imdb_id  popularity     budget     revenue  \\\n",
       "0   135397  tt0369610   32.985763  150000000  1513528810   \n",
       "1    76341  tt1392190   28.419936  150000000   378436354   \n",
       "2   262500  tt2908446   13.112507  110000000   295238201   \n",
       "3   140607  tt2488496   11.173104  200000000  2068178225   \n",
       "4   168259  tt2820852    9.335014  190000000  1506249360   \n",
       "5   281957  tt1663202    9.110700  135000000   532950503   \n",
       "6    87101  tt1340138    8.654359  155000000   440603537   \n",
       "7   286217  tt3659388    7.667400  108000000   595380321   \n",
       "8   211672  tt2293640    7.404165   74000000  1156730962   \n",
       "9   150540  tt2096673    6.326804  175000000   853708609   \n",
       "10  206647  tt2379713    6.200282  245000000   880674609   \n",
       "11   76757  tt1617661    6.189369  176000003   183987723   \n",
       "12  264660  tt0470752    6.118847   15000000    36869414   \n",
       "13  257344  tt2120120    5.984995   88000000   243637091   \n",
       "14   99861  tt2395427    5.944927  280000000  1405035767   \n",
       "\n",
       "                  original_title  \\\n",
       "0                 jurassic world   \n",
       "1             mad max: fury road   \n",
       "2                      insurgent   \n",
       "3   star wars: the force awakens   \n",
       "4                      furious 7   \n",
       "5                   the revenant   \n",
       "6             terminator genisys   \n",
       "7                    the martian   \n",
       "8                        minions   \n",
       "9                     inside out   \n",
       "10                       spectre   \n",
       "11             jupiter ascending   \n",
       "12                    ex machina   \n",
       "13                        pixels   \n",
       "14       avengers: age of ultron   \n",
       "\n",
       "                                                 cast  \\\n",
       "0   chris pratt|bryce dallas howard|irrfan khan|vi...   \n",
       "1   tom hardy|charlize theron|hugh keays-byrne|nic...   \n",
       "2   shailene woodley|theo james|kate winslet|ansel...   \n",
       "3   harrison ford|mark hamill|carrie fisher|adam d...   \n",
       "4   vin diesel|paul walker|jason statham|michelle ...   \n",
       "5   leonardo dicaprio|tom hardy|will poulter|domhn...   \n",
       "6   arnold schwarzenegger|jason clarke|emilia clar...   \n",
       "7   matt damon|jessica chastain|kristen wiig|jeff ...   \n",
       "8   sandra bullock|jon hamm|michael keaton|allison...   \n",
       "9   amy poehler|phyllis smith|richard kind|bill ha...   \n",
       "10  daniel craig|christoph waltz|laa seydoux|ralph...   \n",
       "11  mila kunis|channing tatum|sean bean|eddie redm...   \n",
       "12  domhnall gleeson|alicia vikander|oscar isaac|s...   \n",
       "13  adam sandler|michelle monaghan|peter dinklage|...   \n",
       "14  robert downey jr.|chris hemsworth|mark ruffalo...   \n",
       "\n",
       "                          director  \\\n",
       "0                  colin trevorrow   \n",
       "1                    george miller   \n",
       "2                 robert schwentke   \n",
       "3                      j.j. abrams   \n",
       "4                        james wan   \n",
       "5      alejandro gonzalez iaarritu   \n",
       "6                      alan taylor   \n",
       "7                     ridley scott   \n",
       "8         kyle balda|pierre coffin   \n",
       "9                      pete docter   \n",
       "10                      sam mendes   \n",
       "11  lana wachowski|lilly wachowski   \n",
       "12                    alex garland   \n",
       "13                  chris columbus   \n",
       "14                     joss whedon   \n",
       "\n",
       "                                             overview  runtime  \\\n",
       "0   twenty-two years after the events of jurassic ...      124   \n",
       "1   an apocalyptic story set in the furthest reach...      120   \n",
       "2   beatrice prior must confront her inner demons ...      119   \n",
       "3   thirty years after defeating the galactic empi...      136   \n",
       "4   deckard shaw seeks revenge against dominic tor...      137   \n",
       "5   in the 1820s, a frontiersman, hugh glass, sets...      156   \n",
       "6   the year is 2029. john connor, leader of the r...      125   \n",
       "7   during a manned mission to mars, astronaut mar...      141   \n",
       "8   minions stuart, kevin and bob are recruited by...       91   \n",
       "9   growing up can be a bumpy road, and it's no ex...       94   \n",
       "10  a cryptic message from bondas past sends him o...      148   \n",
       "11  in a universe where human genetic material is ...      124   \n",
       "12  caleb, a 26 year old coder at the world's larg...      108   \n",
       "13  video game experts are recruited by the milita...      105   \n",
       "14  when tony stark tries to jumpstart a dormant p...      141   \n",
       "\n",
       "                                       genres  \\\n",
       "0   Action|Adventure|Science Fiction|Thriller   \n",
       "1   Action|Adventure|Science Fiction|Thriller   \n",
       "2          Adventure|Science Fiction|Thriller   \n",
       "3    Action|Adventure|Science Fiction|Fantasy   \n",
       "4                       Action|Crime|Thriller   \n",
       "5            Western|Drama|Adventure|Thriller   \n",
       "6   Science Fiction|Action|Thriller|Adventure   \n",
       "7             Drama|Adventure|Science Fiction   \n",
       "8           Family|Animation|Adventure|Comedy   \n",
       "9                     Comedy|Animation|Family   \n",
       "10                     Action|Adventure|Crime   \n",
       "11   Science Fiction|Fantasy|Action|Adventure   \n",
       "12                      Drama|Science Fiction   \n",
       "13              Action|Comedy|Science Fiction   \n",
       "14           Action|Adventure|Science Fiction   \n",
       "\n",
       "                                 production_companies release_date  \\\n",
       "0   universal studios|amblin entertainment|legenda...   2015-06-09   \n",
       "1   village roadshow pictures|kennedy miller produ...   2015-05-13   \n",
       "2   summit entertainment|mandeville films|red wago...   2015-03-18   \n",
       "3           lucasfilm|truenorth productions|bad robot   2015-12-15   \n",
       "4   universal pictures|original film|media rights ...   2015-04-01   \n",
       "5   regency enterprises|appian way|catchplay|anony...   2015-12-25   \n",
       "6             paramount pictures|skydance productions   2015-06-23   \n",
       "7   twentieth century fox film corporation|scott f...   2015-09-30   \n",
       "8       universal pictures|illumination entertainment   2015-06-17   \n",
       "9   walt disney pictures|pixar animation studios|w...   2015-06-09   \n",
       "10                       columbia pictures|danjaq|b24   2015-10-26   \n",
       "11  village roadshow pictures|dune entertainment|a...   2015-02-04   \n",
       "12  dna films|universal pictures international (up...   2015-01-21   \n",
       "13        columbia pictures|happy madison productions   2015-07-16   \n",
       "14  marvel studios|prime focus|revolution sun studios   2015-04-22   \n",
       "\n",
       "    vote_count  vote_average  budget_adj  revenue_adj  \n",
       "0         5562           6.5   137999939   1392445892  \n",
       "1         6185           7.1   137999939    348161292  \n",
       "2         2480           6.3   101199955    271619025  \n",
       "3         5292           7.5   183999919   1902723129  \n",
       "4         2947           7.3   174799923   1385748801  \n",
       "5         3929           7.2   124199945    490314247  \n",
       "6         2598           5.8   142599937    405355075  \n",
       "7         4572           7.6    99359956    547749654  \n",
       "8         2893           6.5    68079970   1064192016  \n",
       "9         3935           8.0   160999929    785411574  \n",
       "10        3254           6.2   225399900    810220283  \n",
       "11        1937           5.2   161919931    169268630  \n",
       "12        2854           7.6    13799993     33919845  \n",
       "13        1575           5.8    80959964    224146025  \n",
       "14        4304           7.4   257599886   1292632336  "
      ]
     },
     "execution_count": 20,
     "metadata": {},
     "output_type": "execute_result"
    }
   ],
   "source": [
    "df.head(15)"
   ]
  },
  {
   "cell_type": "markdown",
   "metadata": {},
   "source": [
    "Wonderful! issue was resolved, and we can proceed with the data-wrangling stage."
   ]
  },
  {
   "cell_type": "markdown",
   "metadata": {},
   "source": [
    "#### Checking for inadequate values and missing values\n",
    "\n",
    "\n",
    "The easiest way to do that is to use describe() function "
   ]
  },
  {
   "cell_type": "code",
   "execution_count": 21,
   "metadata": {},
   "outputs": [
    {
     "data": {
      "text/html": [
       "<div>\n",
       "<style scoped>\n",
       "    .dataframe tbody tr th:only-of-type {\n",
       "        vertical-align: middle;\n",
       "    }\n",
       "\n",
       "    .dataframe tbody tr th {\n",
       "        vertical-align: top;\n",
       "    }\n",
       "\n",
       "    .dataframe thead th {\n",
       "        text-align: right;\n",
       "    }\n",
       "</style>\n",
       "<table border=\"1\" class=\"dataframe\">\n",
       "  <thead>\n",
       "    <tr style=\"text-align: right;\">\n",
       "      <th></th>\n",
       "      <th>id</th>\n",
       "      <th>popularity</th>\n",
       "      <th>budget</th>\n",
       "      <th>revenue</th>\n",
       "      <th>runtime</th>\n",
       "      <th>vote_count</th>\n",
       "      <th>vote_average</th>\n",
       "      <th>budget_adj</th>\n",
       "      <th>revenue_adj</th>\n",
       "    </tr>\n",
       "  </thead>\n",
       "  <tbody>\n",
       "    <tr>\n",
       "      <th>count</th>\n",
       "      <td>9771.000000</td>\n",
       "      <td>9771.000000</td>\n",
       "      <td>9.771000e+03</td>\n",
       "      <td>9.771000e+03</td>\n",
       "      <td>9771.000000</td>\n",
       "      <td>9771.000000</td>\n",
       "      <td>9771.000000</td>\n",
       "      <td>9.771000e+03</td>\n",
       "      <td>9.771000e+03</td>\n",
       "    </tr>\n",
       "    <tr>\n",
       "      <th>mean</th>\n",
       "      <td>63188.435165</td>\n",
       "      <td>0.694765</td>\n",
       "      <td>1.618439e+07</td>\n",
       "      <td>4.423583e+07</td>\n",
       "      <td>102.938491</td>\n",
       "      <td>239.339986</td>\n",
       "      <td>5.963289</td>\n",
       "      <td>1.942105e+07</td>\n",
       "      <td>5.512673e+07</td>\n",
       "    </tr>\n",
       "    <tr>\n",
       "      <th>std</th>\n",
       "      <td>90720.809530</td>\n",
       "      <td>1.036975</td>\n",
       "      <td>3.221186e+07</td>\n",
       "      <td>1.225943e+08</td>\n",
       "      <td>27.864293</td>\n",
       "      <td>603.036904</td>\n",
       "      <td>0.913213</td>\n",
       "      <td>3.566724e+07</td>\n",
       "      <td>1.493504e+08</td>\n",
       "    </tr>\n",
       "    <tr>\n",
       "      <th>min</th>\n",
       "      <td>5.000000</td>\n",
       "      <td>0.000188</td>\n",
       "      <td>0.000000e+00</td>\n",
       "      <td>0.000000e+00</td>\n",
       "      <td>0.000000</td>\n",
       "      <td>10.000000</td>\n",
       "      <td>1.500000</td>\n",
       "      <td>0.000000e+00</td>\n",
       "      <td>-2.147484e+09</td>\n",
       "    </tr>\n",
       "    <tr>\n",
       "      <th>25%</th>\n",
       "      <td>10221.000000</td>\n",
       "      <td>0.232665</td>\n",
       "      <td>0.000000e+00</td>\n",
       "      <td>0.000000e+00</td>\n",
       "      <td>90.000000</td>\n",
       "      <td>18.000000</td>\n",
       "      <td>5.400000</td>\n",
       "      <td>0.000000e+00</td>\n",
       "      <td>0.000000e+00</td>\n",
       "    </tr>\n",
       "    <tr>\n",
       "      <th>50%</th>\n",
       "      <td>18681.000000</td>\n",
       "      <td>0.419765</td>\n",
       "      <td>2.000000e+05</td>\n",
       "      <td>0.000000e+00</td>\n",
       "      <td>100.000000</td>\n",
       "      <td>46.000000</td>\n",
       "      <td>6.000000</td>\n",
       "      <td>3.245000e+05</td>\n",
       "      <td>0.000000e+00</td>\n",
       "    </tr>\n",
       "    <tr>\n",
       "      <th>75%</th>\n",
       "      <td>70506.500000</td>\n",
       "      <td>0.776436</td>\n",
       "      <td>1.945000e+07</td>\n",
       "      <td>3.105254e+07</td>\n",
       "      <td>112.000000</td>\n",
       "      <td>173.000000</td>\n",
       "      <td>6.600000</td>\n",
       "      <td>2.469335e+07</td>\n",
       "      <td>4.294275e+07</td>\n",
       "    </tr>\n",
       "    <tr>\n",
       "      <th>max</th>\n",
       "      <td>417859.000000</td>\n",
       "      <td>32.985763</td>\n",
       "      <td>4.250000e+08</td>\n",
       "      <td>2.781506e+09</td>\n",
       "      <td>877.000000</td>\n",
       "      <td>9767.000000</td>\n",
       "      <td>8.700000</td>\n",
       "      <td>4.250000e+08</td>\n",
       "      <td>1.907006e+09</td>\n",
       "    </tr>\n",
       "  </tbody>\n",
       "</table>\n",
       "</div>"
      ],
      "text/plain": [
       "                  id   popularity        budget       revenue      runtime  \\\n",
       "count    9771.000000  9771.000000  9.771000e+03  9.771000e+03  9771.000000   \n",
       "mean    63188.435165     0.694765  1.618439e+07  4.423583e+07   102.938491   \n",
       "std     90720.809530     1.036975  3.221186e+07  1.225943e+08    27.864293   \n",
       "min         5.000000     0.000188  0.000000e+00  0.000000e+00     0.000000   \n",
       "25%     10221.000000     0.232665  0.000000e+00  0.000000e+00    90.000000   \n",
       "50%     18681.000000     0.419765  2.000000e+05  0.000000e+00   100.000000   \n",
       "75%     70506.500000     0.776436  1.945000e+07  3.105254e+07   112.000000   \n",
       "max    417859.000000    32.985763  4.250000e+08  2.781506e+09   877.000000   \n",
       "\n",
       "        vote_count  vote_average    budget_adj   revenue_adj  \n",
       "count  9771.000000   9771.000000  9.771000e+03  9.771000e+03  \n",
       "mean    239.339986      5.963289  1.942105e+07  5.512673e+07  \n",
       "std     603.036904      0.913213  3.566724e+07  1.493504e+08  \n",
       "min      10.000000      1.500000  0.000000e+00 -2.147484e+09  \n",
       "25%      18.000000      5.400000  0.000000e+00  0.000000e+00  \n",
       "50%      46.000000      6.000000  3.245000e+05  0.000000e+00  \n",
       "75%     173.000000      6.600000  2.469335e+07  4.294275e+07  \n",
       "max    9767.000000      8.700000  4.250000e+08  1.907006e+09  "
      ]
     },
     "execution_count": 21,
     "metadata": {},
     "output_type": "execute_result"
    }
   ],
   "source": [
    "df.describe()"
   ]
  },
  {
   "cell_type": "markdown",
   "metadata": {},
   "source": [
    "As we can wee above, there is multiple columns with 0 as a minimum value which indicate the missing value.\n",
    "\n"
   ]
  },
  {
   "cell_type": "code",
   "execution_count": 22,
   "metadata": {
    "scrolled": false
   },
   "outputs": [],
   "source": [
    "df[['budget', 'revenue', 'runtime','budget_adj','revenue_adj']] = df[['budget', 'revenue', 'runtime','budget_adj','revenue_adj']].replace(0, np.nan)"
   ]
  },
  {
   "cell_type": "code",
   "execution_count": 23,
   "metadata": {
    "scrolled": false
   },
   "outputs": [
    {
     "name": "stdout",
     "output_type": "stream",
     "text": [
      "<class 'pandas.core.frame.DataFrame'>\n",
      "Int64Index: 9771 entries, 0 to 10865\n",
      "Data columns (total 17 columns):\n",
      " #   Column                Non-Null Count  Dtype         \n",
      "---  ------                --------------  -----         \n",
      " 0   id                    9771 non-null   int64         \n",
      " 1   imdb_id               9771 non-null   object        \n",
      " 2   popularity            9771 non-null   float64       \n",
      " 3   budget                5022 non-null   float64       \n",
      " 4   revenue               4751 non-null   float64       \n",
      " 5   original_title        9771 non-null   object        \n",
      " 6   cast                  9771 non-null   object        \n",
      " 7   director              9771 non-null   object        \n",
      " 8   overview              9771 non-null   object        \n",
      " 9   runtime               9758 non-null   float64       \n",
      " 10  genres                9771 non-null   object        \n",
      " 11  production_companies  9771 non-null   object        \n",
      " 12  release_date          9771 non-null   datetime64[ns]\n",
      " 13  vote_count            9771 non-null   int64         \n",
      " 14  vote_average          9771 non-null   float64       \n",
      " 15  budget_adj            5020 non-null   float64       \n",
      " 16  revenue_adj           4751 non-null   float64       \n",
      "dtypes: datetime64[ns](1), float64(7), int64(2), object(7)\n",
      "memory usage: 1.3+ MB\n"
     ]
    }
   ],
   "source": [
    "#print the general info\n",
    "df.info()"
   ]
  },
  {
   "cell_type": "markdown",
   "metadata": {},
   "source": [
    "Check distribution"
   ]
  },
  {
   "cell_type": "code",
   "execution_count": 24,
   "metadata": {
    "scrolled": false
   },
   "outputs": [
    {
     "data": {
      "image/png": "[encoded data removed]",
      "text/plain": [
       "<Figure size 2000x800 with 1 Axes>"
      ]
     },
     "metadata": {},
     "output_type": "display_data"
    }
   ],
   "source": [
    "rows_num = df.shape[0]\n",
    "na_values = (df.isna().sum() / rows_num) * 100\n",
    "\n",
    "plt.figure(figsize=(20, 8))\n",
    "sns.barplot(x=na_values.values, \n",
    "            y=na_values.index,\n",
    "           palette=sns.color_palette(\"viridis_r\", n_colors=len(na_values), as_cmap=True)(na_values.values))\n",
    "\n",
    "plt.title(\"Percentage of Missing Values in Each Column\\n\")\n",
    "plt.xlabel(\"Missing Values, %\")\n",
    "plt.ylabel(\"Columns\")\n",
    "plt.xticks(rotation=0)\n",
    "plt.grid(True)\n",
    "plt.show()"
   ]
  },
  {
   "cell_type": "markdown",
   "metadata": {},
   "source": [
    "Columns `budget`, `revenue`, `budget_adj`, and `revenue_adj` have over 40% of the missing values, and we can't use those columns to make any sort of analysis; we should drop those columns. I assume that that amount of missing values can be connected to the data transfer problems, and therefore they are MNAR values.\n",
    "\n",
    "Also, I see a very small percentage of the missing values at the `runtime`, and we should investigate that column later to replace the missing values.\n",
    "\n",
    "First, we should drip columns `budget`, `revenue`, `budget_adj`, and `revenue_adj`:\n"
   ]
  },
  {
   "cell_type": "code",
   "execution_count": 25,
   "metadata": {},
   "outputs": [],
   "source": [
    "df.drop(['budget', 'revenue', 'budget_adj', 'revenue_adj'] , axis=1, inplace=True)"
   ]
  },
  {
   "cell_type": "markdown",
   "metadata": {},
   "source": [
    "Print values distribution for the `runtime` column to select the appropriate option to fill the missing values"
   ]
  },
  {
   "cell_type": "code",
   "execution_count": 26,
   "metadata": {},
   "outputs": [
    {
     "data": {
      "image/png": "[encoded data removed]",
      "text/plain": [
       "<Figure size 1000x300 with 1 Axes>"
      ]
     },
     "metadata": {},
     "output_type": "display_data"
    }
   ],
   "source": [
    "value_counts = df['runtime'].value_counts()\n",
    "\n",
    "# Plot the bar graph\n",
    "plt.figure(figsize=(10, 3))\n",
    "plt.bar(value_counts.index, value_counts.values)\n",
    "\n",
    "# Set the labels and title\n",
    "plt.xlabel('Values')\n",
    "plt.ylabel('Count')\n",
    "plt.title('Unique Value Counts in runtime Column')\n",
    "\n",
    "# Rotate the x-axis labels if needed\n",
    "plt.xticks(rotation=0)\n",
    "\n",
    "# Show the plot\n",
    "plt.show()\n"
   ]
  },
  {
   "cell_type": "markdown",
   "metadata": {},
   "source": [
    "The distribution graph is left-skewed with highly-visible peak. In that situation, the most appropriate value to replace the missing values should be mode value.\n",
    "\n",
    "Replacing missing values in the runtime column with mode value and turning them back to an integer:"
   ]
  },
  {
   "cell_type": "code",
   "execution_count": 27,
   "metadata": {},
   "outputs": [],
   "source": [
    "df['runtime'] = df['runtime'].fillna(df['runtime'].mode()[0])\n",
    "df['runtime'] = df['runtime'].astype(int)"
   ]
  },
  {
   "cell_type": "markdown",
   "metadata": {},
   "source": [
    "Printing the general information:"
   ]
  },
  {
   "cell_type": "code",
   "execution_count": 28,
   "metadata": {
    "scrolled": false
   },
   "outputs": [
    {
     "name": "stdout",
     "output_type": "stream",
     "text": [
      "<class 'pandas.core.frame.DataFrame'>\n",
      "Int64Index: 9771 entries, 0 to 10865\n",
      "Data columns (total 13 columns):\n",
      " #   Column                Non-Null Count  Dtype         \n",
      "---  ------                --------------  -----         \n",
      " 0   id                    9771 non-null   int64         \n",
      " 1   imdb_id               9771 non-null   object        \n",
      " 2   popularity            9771 non-null   float64       \n",
      " 3   original_title        9771 non-null   object        \n",
      " 4   cast                  9771 non-null   object        \n",
      " 5   director              9771 non-null   object        \n",
      " 6   overview              9771 non-null   object        \n",
      " 7   runtime               9771 non-null   int32         \n",
      " 8   genres                9771 non-null   object        \n",
      " 9   production_companies  9771 non-null   object        \n",
      " 10  release_date          9771 non-null   datetime64[ns]\n",
      " 11  vote_count            9771 non-null   int64         \n",
      " 12  vote_average          9771 non-null   float64       \n",
      "dtypes: datetime64[ns](1), float64(2), int32(1), int64(2), object(7)\n",
      "memory usage: 1.0+ MB\n"
     ]
    }
   ],
   "source": [
    "df.info()"
   ]
  },
  {
   "cell_type": "markdown",
   "metadata": {},
   "source": [
    "### Checking for duplicates\n",
    "\n",
    "\n",
    "Checking for duplicates before we use explode() function:"
   ]
  },
  {
   "cell_type": "code",
   "execution_count": 29,
   "metadata": {},
   "outputs": [
    {
     "data": {
      "text/plain": [
       "1"
      ]
     },
     "execution_count": 29,
     "metadata": {},
     "output_type": "execute_result"
    }
   ],
   "source": [
    "df.duplicated().sum()"
   ]
  },
  {
   "cell_type": "markdown",
   "metadata": {},
   "source": [
    "Drop duplicates:"
   ]
  },
  {
   "cell_type": "code",
   "execution_count": 30,
   "metadata": {},
   "outputs": [],
   "source": [
    "df.drop_duplicates(inplace = True)"
   ]
  },
  {
   "cell_type": "markdown",
   "metadata": {},
   "source": [
    "Double-check if we removed all duplicates:"
   ]
  },
  {
   "cell_type": "code",
   "execution_count": 31,
   "metadata": {},
   "outputs": [
    {
     "data": {
      "text/plain": [
       "0"
      ]
     },
     "execution_count": 31,
     "metadata": {},
     "output_type": "execute_result"
    }
   ],
   "source": [
    "df.duplicated().sum()"
   ]
  },
  {
   "cell_type": "markdown",
   "metadata": {},
   "source": [
    "### Categorizing data and explode columns with lists\n",
    "\n",
    "\n",
    "#### Explode genres,cast,and director columns.\n",
    "\n",
    "\n",
    "First, create a list named `columns_expl`:\n"
   ]
  },
  {
   "cell_type": "code",
   "execution_count": 32,
   "metadata": {},
   "outputs": [],
   "source": [
    "columns_expl=['genres','cast','director','production_companies']"
   ]
  },
  {
   "cell_type": "markdown",
   "metadata": {},
   "source": [
    "Second, since the input for an `explode()` method is a list, we have to split strings using `\"|\"` as a delimiter:"
   ]
  },
  {
   "cell_type": "code",
   "execution_count": 33,
   "metadata": {},
   "outputs": [],
   "source": [
    "df[columns_expl] = df[columns_expl].applymap(lambda x: x.split('|'))\n"
   ]
  },
  {
   "cell_type": "markdown",
   "metadata": {},
   "source": [
    "Iterate through the `columns_expl` list to explode all columns in that list:"
   ]
  },
  {
   "cell_type": "code",
   "execution_count": 34,
   "metadata": {},
   "outputs": [],
   "source": [
    "for col in columns_expl:\n",
    "    df=df.explode(col)"
   ]
  },
  {
   "cell_type": "markdown",
   "metadata": {},
   "source": [
    "Print a few rows to check if everything is ok:"
   ]
  },
  {
   "cell_type": "code",
   "execution_count": 35,
   "metadata": {
    "scrolled": false
   },
   "outputs": [
    {
     "data": {
      "text/html": [
       "<div>\n",
       "<style scoped>\n",
       "    .dataframe tbody tr th:only-of-type {\n",
       "        vertical-align: middle;\n",
       "    }\n",
       "\n",
       "    .dataframe tbody tr th {\n",
       "        vertical-align: top;\n",
       "    }\n",
       "\n",
       "    .dataframe thead th {\n",
       "        text-align: right;\n",
       "    }\n",
       "</style>\n",
       "<table border=\"1\" class=\"dataframe\">\n",
       "  <thead>\n",
       "    <tr style=\"text-align: right;\">\n",
       "      <th></th>\n",
       "      <th>id</th>\n",
       "      <th>imdb_id</th>\n",
       "      <th>popularity</th>\n",
       "      <th>original_title</th>\n",
       "      <th>cast</th>\n",
       "      <th>director</th>\n",
       "      <th>overview</th>\n",
       "      <th>runtime</th>\n",
       "      <th>genres</th>\n",
       "      <th>production_companies</th>\n",
       "      <th>release_date</th>\n",
       "      <th>vote_count</th>\n",
       "      <th>vote_average</th>\n",
       "    </tr>\n",
       "  </thead>\n",
       "  <tbody>\n",
       "    <tr>\n",
       "      <th>0</th>\n",
       "      <td>135397</td>\n",
       "      <td>tt0369610</td>\n",
       "      <td>32.985763</td>\n",
       "      <td>jurassic world</td>\n",
       "      <td>chris pratt</td>\n",
       "      <td>colin trevorrow</td>\n",
       "      <td>twenty-two years after the events of jurassic ...</td>\n",
       "      <td>124</td>\n",
       "      <td>Action</td>\n",
       "      <td>universal studios</td>\n",
       "      <td>2015-06-09</td>\n",
       "      <td>5562</td>\n",
       "      <td>6.5</td>\n",
       "    </tr>\n",
       "    <tr>\n",
       "      <th>0</th>\n",
       "      <td>135397</td>\n",
       "      <td>tt0369610</td>\n",
       "      <td>32.985763</td>\n",
       "      <td>jurassic world</td>\n",
       "      <td>chris pratt</td>\n",
       "      <td>colin trevorrow</td>\n",
       "      <td>twenty-two years after the events of jurassic ...</td>\n",
       "      <td>124</td>\n",
       "      <td>Action</td>\n",
       "      <td>amblin entertainment</td>\n",
       "      <td>2015-06-09</td>\n",
       "      <td>5562</td>\n",
       "      <td>6.5</td>\n",
       "    </tr>\n",
       "    <tr>\n",
       "      <th>0</th>\n",
       "      <td>135397</td>\n",
       "      <td>tt0369610</td>\n",
       "      <td>32.985763</td>\n",
       "      <td>jurassic world</td>\n",
       "      <td>chris pratt</td>\n",
       "      <td>colin trevorrow</td>\n",
       "      <td>twenty-two years after the events of jurassic ...</td>\n",
       "      <td>124</td>\n",
       "      <td>Action</td>\n",
       "      <td>legendary pictures</td>\n",
       "      <td>2015-06-09</td>\n",
       "      <td>5562</td>\n",
       "      <td>6.5</td>\n",
       "    </tr>\n",
       "    <tr>\n",
       "      <th>0</th>\n",
       "      <td>135397</td>\n",
       "      <td>tt0369610</td>\n",
       "      <td>32.985763</td>\n",
       "      <td>jurassic world</td>\n",
       "      <td>chris pratt</td>\n",
       "      <td>colin trevorrow</td>\n",
       "      <td>twenty-two years after the events of jurassic ...</td>\n",
       "      <td>124</td>\n",
       "      <td>Action</td>\n",
       "      <td>fuji television network</td>\n",
       "      <td>2015-06-09</td>\n",
       "      <td>5562</td>\n",
       "      <td>6.5</td>\n",
       "    </tr>\n",
       "    <tr>\n",
       "      <th>0</th>\n",
       "      <td>135397</td>\n",
       "      <td>tt0369610</td>\n",
       "      <td>32.985763</td>\n",
       "      <td>jurassic world</td>\n",
       "      <td>chris pratt</td>\n",
       "      <td>colin trevorrow</td>\n",
       "      <td>twenty-two years after the events of jurassic ...</td>\n",
       "      <td>124</td>\n",
       "      <td>Action</td>\n",
       "      <td>dentsu</td>\n",
       "      <td>2015-06-09</td>\n",
       "      <td>5562</td>\n",
       "      <td>6.5</td>\n",
       "    </tr>\n",
       "    <tr>\n",
       "      <th>0</th>\n",
       "      <td>135397</td>\n",
       "      <td>tt0369610</td>\n",
       "      <td>32.985763</td>\n",
       "      <td>jurassic world</td>\n",
       "      <td>bryce dallas howard</td>\n",
       "      <td>colin trevorrow</td>\n",
       "      <td>twenty-two years after the events of jurassic ...</td>\n",
       "      <td>124</td>\n",
       "      <td>Action</td>\n",
       "      <td>universal studios</td>\n",
       "      <td>2015-06-09</td>\n",
       "      <td>5562</td>\n",
       "      <td>6.5</td>\n",
       "    </tr>\n",
       "    <tr>\n",
       "      <th>0</th>\n",
       "      <td>135397</td>\n",
       "      <td>tt0369610</td>\n",
       "      <td>32.985763</td>\n",
       "      <td>jurassic world</td>\n",
       "      <td>bryce dallas howard</td>\n",
       "      <td>colin trevorrow</td>\n",
       "      <td>twenty-two years after the events of jurassic ...</td>\n",
       "      <td>124</td>\n",
       "      <td>Action</td>\n",
       "      <td>amblin entertainment</td>\n",
       "      <td>2015-06-09</td>\n",
       "      <td>5562</td>\n",
       "      <td>6.5</td>\n",
       "    </tr>\n",
       "    <tr>\n",
       "      <th>0</th>\n",
       "      <td>135397</td>\n",
       "      <td>tt0369610</td>\n",
       "      <td>32.985763</td>\n",
       "      <td>jurassic world</td>\n",
       "      <td>bryce dallas howard</td>\n",
       "      <td>colin trevorrow</td>\n",
       "      <td>twenty-two years after the events of jurassic ...</td>\n",
       "      <td>124</td>\n",
       "      <td>Action</td>\n",
       "      <td>legendary pictures</td>\n",
       "      <td>2015-06-09</td>\n",
       "      <td>5562</td>\n",
       "      <td>6.5</td>\n",
       "    </tr>\n",
       "    <tr>\n",
       "      <th>0</th>\n",
       "      <td>135397</td>\n",
       "      <td>tt0369610</td>\n",
       "      <td>32.985763</td>\n",
       "      <td>jurassic world</td>\n",
       "      <td>bryce dallas howard</td>\n",
       "      <td>colin trevorrow</td>\n",
       "      <td>twenty-two years after the events of jurassic ...</td>\n",
       "      <td>124</td>\n",
       "      <td>Action</td>\n",
       "      <td>fuji television network</td>\n",
       "      <td>2015-06-09</td>\n",
       "      <td>5562</td>\n",
       "      <td>6.5</td>\n",
       "    </tr>\n",
       "    <tr>\n",
       "      <th>0</th>\n",
       "      <td>135397</td>\n",
       "      <td>tt0369610</td>\n",
       "      <td>32.985763</td>\n",
       "      <td>jurassic world</td>\n",
       "      <td>bryce dallas howard</td>\n",
       "      <td>colin trevorrow</td>\n",
       "      <td>twenty-two years after the events of jurassic ...</td>\n",
       "      <td>124</td>\n",
       "      <td>Action</td>\n",
       "      <td>dentsu</td>\n",
       "      <td>2015-06-09</td>\n",
       "      <td>5562</td>\n",
       "      <td>6.5</td>\n",
       "    </tr>\n",
       "    <tr>\n",
       "      <th>0</th>\n",
       "      <td>135397</td>\n",
       "      <td>tt0369610</td>\n",
       "      <td>32.985763</td>\n",
       "      <td>jurassic world</td>\n",
       "      <td>irrfan khan</td>\n",
       "      <td>colin trevorrow</td>\n",
       "      <td>twenty-two years after the events of jurassic ...</td>\n",
       "      <td>124</td>\n",
       "      <td>Action</td>\n",
       "      <td>universal studios</td>\n",
       "      <td>2015-06-09</td>\n",
       "      <td>5562</td>\n",
       "      <td>6.5</td>\n",
       "    </tr>\n",
       "    <tr>\n",
       "      <th>0</th>\n",
       "      <td>135397</td>\n",
       "      <td>tt0369610</td>\n",
       "      <td>32.985763</td>\n",
       "      <td>jurassic world</td>\n",
       "      <td>irrfan khan</td>\n",
       "      <td>colin trevorrow</td>\n",
       "      <td>twenty-two years after the events of jurassic ...</td>\n",
       "      <td>124</td>\n",
       "      <td>Action</td>\n",
       "      <td>amblin entertainment</td>\n",
       "      <td>2015-06-09</td>\n",
       "      <td>5562</td>\n",
       "      <td>6.5</td>\n",
       "    </tr>\n",
       "    <tr>\n",
       "      <th>0</th>\n",
       "      <td>135397</td>\n",
       "      <td>tt0369610</td>\n",
       "      <td>32.985763</td>\n",
       "      <td>jurassic world</td>\n",
       "      <td>irrfan khan</td>\n",
       "      <td>colin trevorrow</td>\n",
       "      <td>twenty-two years after the events of jurassic ...</td>\n",
       "      <td>124</td>\n",
       "      <td>Action</td>\n",
       "      <td>legendary pictures</td>\n",
       "      <td>2015-06-09</td>\n",
       "      <td>5562</td>\n",
       "      <td>6.5</td>\n",
       "    </tr>\n",
       "    <tr>\n",
       "      <th>0</th>\n",
       "      <td>135397</td>\n",
       "      <td>tt0369610</td>\n",
       "      <td>32.985763</td>\n",
       "      <td>jurassic world</td>\n",
       "      <td>irrfan khan</td>\n",
       "      <td>colin trevorrow</td>\n",
       "      <td>twenty-two years after the events of jurassic ...</td>\n",
       "      <td>124</td>\n",
       "      <td>Action</td>\n",
       "      <td>fuji television network</td>\n",
       "      <td>2015-06-09</td>\n",
       "      <td>5562</td>\n",
       "      <td>6.5</td>\n",
       "    </tr>\n",
       "    <tr>\n",
       "      <th>0</th>\n",
       "      <td>135397</td>\n",
       "      <td>tt0369610</td>\n",
       "      <td>32.985763</td>\n",
       "      <td>jurassic world</td>\n",
       "      <td>irrfan khan</td>\n",
       "      <td>colin trevorrow</td>\n",
       "      <td>twenty-two years after the events of jurassic ...</td>\n",
       "      <td>124</td>\n",
       "      <td>Action</td>\n",
       "      <td>dentsu</td>\n",
       "      <td>2015-06-09</td>\n",
       "      <td>5562</td>\n",
       "      <td>6.5</td>\n",
       "    </tr>\n",
       "  </tbody>\n",
       "</table>\n",
       "</div>"
      ],
      "text/plain": [
       "       id    imdb_id  popularity  original_title                 cast  \\\n",
       "0  135397  tt0369610   32.985763  jurassic world          chris pratt   \n",
       "0  135397  tt0369610   32.985763  jurassic world          chris pratt   \n",
       "0  135397  tt0369610   32.985763  jurassic world          chris pratt   \n",
       "0  135397  tt0369610   32.985763  jurassic world          chris pratt   \n",
       "0  135397  tt0369610   32.985763  jurassic world          chris pratt   \n",
       "0  135397  tt0369610   32.985763  jurassic world  bryce dallas howard   \n",
       "0  135397  tt0369610   32.985763  jurassic world  bryce dallas howard   \n",
       "0  135397  tt0369610   32.985763  jurassic world  bryce dallas howard   \n",
       "0  135397  tt0369610   32.985763  jurassic world  bryce dallas howard   \n",
       "0  135397  tt0369610   32.985763  jurassic world  bryce dallas howard   \n",
       "0  135397  tt0369610   32.985763  jurassic world          irrfan khan   \n",
       "0  135397  tt0369610   32.985763  jurassic world          irrfan khan   \n",
       "0  135397  tt0369610   32.985763  jurassic world          irrfan khan   \n",
       "0  135397  tt0369610   32.985763  jurassic world          irrfan khan   \n",
       "0  135397  tt0369610   32.985763  jurassic world          irrfan khan   \n",
       "\n",
       "          director                                           overview  \\\n",
       "0  colin trevorrow  twenty-two years after the events of jurassic ...   \n",
       "0  colin trevorrow  twenty-two years after the events of jurassic ...   \n",
       "0  colin trevorrow  twenty-two years after the events of jurassic ...   \n",
       "0  colin trevorrow  twenty-two years after the events of jurassic ...   \n",
       "0  colin trevorrow  twenty-two years after the events of jurassic ...   \n",
       "0  colin trevorrow  twenty-two years after the events of jurassic ...   \n",
       "0  colin trevorrow  twenty-two years after the events of jurassic ...   \n",
       "0  colin trevorrow  twenty-two years after the events of jurassic ...   \n",
       "0  colin trevorrow  twenty-two years after the events of jurassic ...   \n",
       "0  colin trevorrow  twenty-two years after the events of jurassic ...   \n",
       "0  colin trevorrow  twenty-two years after the events of jurassic ...   \n",
       "0  colin trevorrow  twenty-two years after the events of jurassic ...   \n",
       "0  colin trevorrow  twenty-two years after the events of jurassic ...   \n",
       "0  colin trevorrow  twenty-two years after the events of jurassic ...   \n",
       "0  colin trevorrow  twenty-two years after the events of jurassic ...   \n",
       "\n",
       "   runtime  genres     production_companies release_date  vote_count  \\\n",
       "0      124  Action        universal studios   2015-06-09        5562   \n",
       "0      124  Action     amblin entertainment   2015-06-09        5562   \n",
       "0      124  Action       legendary pictures   2015-06-09        5562   \n",
       "0      124  Action  fuji television network   2015-06-09        5562   \n",
       "0      124  Action                   dentsu   2015-06-09        5562   \n",
       "0      124  Action        universal studios   2015-06-09        5562   \n",
       "0      124  Action     amblin entertainment   2015-06-09        5562   \n",
       "0      124  Action       legendary pictures   2015-06-09        5562   \n",
       "0      124  Action  fuji television network   2015-06-09        5562   \n",
       "0      124  Action                   dentsu   2015-06-09        5562   \n",
       "0      124  Action        universal studios   2015-06-09        5562   \n",
       "0      124  Action     amblin entertainment   2015-06-09        5562   \n",
       "0      124  Action       legendary pictures   2015-06-09        5562   \n",
       "0      124  Action  fuji television network   2015-06-09        5562   \n",
       "0      124  Action                   dentsu   2015-06-09        5562   \n",
       "\n",
       "   vote_average  \n",
       "0           6.5  \n",
       "0           6.5  \n",
       "0           6.5  \n",
       "0           6.5  \n",
       "0           6.5  \n",
       "0           6.5  \n",
       "0           6.5  \n",
       "0           6.5  \n",
       "0           6.5  \n",
       "0           6.5  \n",
       "0           6.5  \n",
       "0           6.5  \n",
       "0           6.5  \n",
       "0           6.5  \n",
       "0           6.5  "
      ]
     },
     "execution_count": 35,
     "metadata": {},
     "output_type": "execute_result"
    }
   ],
   "source": [
    "df.head(15)"
   ]
  },
  {
   "cell_type": "markdown",
   "metadata": {},
   "source": [
    "Checking for duplicates"
   ]
  },
  {
   "cell_type": "code",
   "execution_count": 36,
   "metadata": {},
   "outputs": [
    {
     "data": {
      "text/plain": [
       "138"
      ]
     },
     "execution_count": 36,
     "metadata": {},
     "output_type": "execute_result"
    }
   ],
   "source": [
    "df.duplicated().sum()"
   ]
  },
  {
   "cell_type": "markdown",
   "metadata": {},
   "source": [
    "These duplicates mean that some of the strings contained repeated cast members.\n",
    "\n",
    "Drop duplicates:"
   ]
  },
  {
   "cell_type": "code",
   "execution_count": 37,
   "metadata": {},
   "outputs": [],
   "source": [
    "df.drop_duplicates(inplace = True)"
   ]
  },
  {
   "cell_type": "markdown",
   "metadata": {},
   "source": [
    "Double-check if we removed all duplicates:"
   ]
  },
  {
   "cell_type": "code",
   "execution_count": 38,
   "metadata": {},
   "outputs": [
    {
     "data": {
      "text/plain": [
       "0"
      ]
     },
     "execution_count": 38,
     "metadata": {},
     "output_type": "execute_result"
    }
   ],
   "source": [
    "df.duplicated().sum()"
   ]
  },
  {
   "cell_type": "markdown",
   "metadata": {},
   "source": [
    "Printing the general information:"
   ]
  },
  {
   "cell_type": "code",
   "execution_count": 39,
   "metadata": {
    "scrolled": true
   },
   "outputs": [
    {
     "name": "stdout",
     "output_type": "stream",
     "text": [
      "<class 'pandas.core.frame.DataFrame'>\n",
      "Int64Index: 316580 entries, 0 to 10865\n",
      "Data columns (total 13 columns):\n",
      " #   Column                Non-Null Count   Dtype         \n",
      "---  ------                --------------   -----         \n",
      " 0   id                    316580 non-null  int64         \n",
      " 1   imdb_id               316580 non-null  object        \n",
      " 2   popularity            316580 non-null  float64       \n",
      " 3   original_title        316580 non-null  object        \n",
      " 4   cast                  316580 non-null  object        \n",
      " 5   director              316580 non-null  object        \n",
      " 6   overview              316580 non-null  object        \n",
      " 7   runtime               316580 non-null  int32         \n",
      " 8   genres                316580 non-null  object        \n",
      " 9   production_companies  316580 non-null  object        \n",
      " 10  release_date          316580 non-null  datetime64[ns]\n",
      " 11  vote_count            316580 non-null  int64         \n",
      " 12  vote_average          316580 non-null  float64       \n",
      "dtypes: datetime64[ns](1), float64(2), int32(1), int64(2), object(7)\n",
      "memory usage: 32.6+ MB\n"
     ]
    }
   ],
   "source": [
    "df.info()"
   ]
  },
  {
   "cell_type": "markdown",
   "metadata": {},
   "source": [
    "#### Categorizing data\n",
    "\n",
    "Printing unique values of the `'genres'` column to check for any indication of Non-obvious duplicates or sub-categories of major genres:"
   ]
  },
  {
   "cell_type": "code",
   "execution_count": 40,
   "metadata": {},
   "outputs": [
    {
     "name": "stdout",
     "output_type": "stream",
     "text": [
      "['Action' 'Adventure' 'Science Fiction' 'Thriller' 'Fantasy' 'Crime'\n",
      " 'Western' 'Drama' 'Family' 'Animation' 'Comedy' 'Mystery' 'Romance' 'War'\n",
      " 'History' 'Music' 'Horror' 'Documentary' 'TV Movie' 'Foreign']\n"
     ]
    }
   ],
   "source": [
    "print(df['genres'].unique())"
   ]
  },
  {
   "cell_type": "markdown",
   "metadata": {},
   "source": [
    "As we can see above, there is no indication of non-obvious duplicates and sub-categories.\n",
    "\n",
    "Next, we have to introduce a new category: `company_priority`. The original string contained all production companies in the priority order. Using `groupby()` and `transform()`, we can assign `primary` to the first production company in the film and `secondary` to the other:\n",
    "\n",
    "> <div class=\"alert alert-block alert-info\">\n",
    "<b>Note:</b> cumcount() will assign temp indexes within each group\n",
    "</div>\n",
    "\n",
    "> <div class=\"alert alert-block alert-info\">\n",
    "<b>Note:</b> The \"key\" part of the groupby() should include the main key `original_title` and all other columns, except for the column we should investigate, with relationships one to many.\n",
    "</div>"
   ]
  },
  {
   "cell_type": "code",
   "execution_count": 41,
   "metadata": {},
   "outputs": [],
   "source": [
    "df['company_priority'] = df.groupby(['original_title', 'genres','cast','director'])['production_companies'].cumcount().apply(lambda x: 'primary' if x == 0 else 'secondary')"
   ]
  },
  {
   "cell_type": "markdown",
   "metadata": {},
   "source": [
    "Printing a few rows from the columns `'original_title'`, `'cast'`, `'director'`, `'runtime'`, `'genres'`, `'production_companies'`, `'vote_average'`, `'company_priority'` to check if the asignment was performed correctly:"
   ]
  },
  {
   "cell_type": "code",
   "execution_count": 42,
   "metadata": {},
   "outputs": [
    {
     "data": {
      "text/html": [
       "<div>\n",
       "<style scoped>\n",
       "    .dataframe tbody tr th:only-of-type {\n",
       "        vertical-align: middle;\n",
       "    }\n",
       "\n",
       "    .dataframe tbody tr th {\n",
       "        vertical-align: top;\n",
       "    }\n",
       "\n",
       "    .dataframe thead th {\n",
       "        text-align: right;\n",
       "    }\n",
       "</style>\n",
       "<table border=\"1\" class=\"dataframe\">\n",
       "  <thead>\n",
       "    <tr style=\"text-align: right;\">\n",
       "      <th></th>\n",
       "      <th>original_title</th>\n",
       "      <th>cast</th>\n",
       "      <th>director</th>\n",
       "      <th>runtime</th>\n",
       "      <th>genres</th>\n",
       "      <th>production_companies</th>\n",
       "      <th>vote_average</th>\n",
       "      <th>company_priority</th>\n",
       "    </tr>\n",
       "  </thead>\n",
       "  <tbody>\n",
       "    <tr>\n",
       "      <th>0</th>\n",
       "      <td>jurassic world</td>\n",
       "      <td>chris pratt</td>\n",
       "      <td>colin trevorrow</td>\n",
       "      <td>124</td>\n",
       "      <td>Action</td>\n",
       "      <td>universal studios</td>\n",
       "      <td>6.5</td>\n",
       "      <td>primary</td>\n",
       "    </tr>\n",
       "    <tr>\n",
       "      <th>0</th>\n",
       "      <td>jurassic world</td>\n",
       "      <td>chris pratt</td>\n",
       "      <td>colin trevorrow</td>\n",
       "      <td>124</td>\n",
       "      <td>Action</td>\n",
       "      <td>amblin entertainment</td>\n",
       "      <td>6.5</td>\n",
       "      <td>secondary</td>\n",
       "    </tr>\n",
       "    <tr>\n",
       "      <th>0</th>\n",
       "      <td>jurassic world</td>\n",
       "      <td>chris pratt</td>\n",
       "      <td>colin trevorrow</td>\n",
       "      <td>124</td>\n",
       "      <td>Action</td>\n",
       "      <td>legendary pictures</td>\n",
       "      <td>6.5</td>\n",
       "      <td>secondary</td>\n",
       "    </tr>\n",
       "    <tr>\n",
       "      <th>0</th>\n",
       "      <td>jurassic world</td>\n",
       "      <td>chris pratt</td>\n",
       "      <td>colin trevorrow</td>\n",
       "      <td>124</td>\n",
       "      <td>Action</td>\n",
       "      <td>fuji television network</td>\n",
       "      <td>6.5</td>\n",
       "      <td>secondary</td>\n",
       "    </tr>\n",
       "    <tr>\n",
       "      <th>0</th>\n",
       "      <td>jurassic world</td>\n",
       "      <td>chris pratt</td>\n",
       "      <td>colin trevorrow</td>\n",
       "      <td>124</td>\n",
       "      <td>Action</td>\n",
       "      <td>dentsu</td>\n",
       "      <td>6.5</td>\n",
       "      <td>secondary</td>\n",
       "    </tr>\n",
       "    <tr>\n",
       "      <th>0</th>\n",
       "      <td>jurassic world</td>\n",
       "      <td>bryce dallas howard</td>\n",
       "      <td>colin trevorrow</td>\n",
       "      <td>124</td>\n",
       "      <td>Action</td>\n",
       "      <td>universal studios</td>\n",
       "      <td>6.5</td>\n",
       "      <td>primary</td>\n",
       "    </tr>\n",
       "    <tr>\n",
       "      <th>0</th>\n",
       "      <td>jurassic world</td>\n",
       "      <td>bryce dallas howard</td>\n",
       "      <td>colin trevorrow</td>\n",
       "      <td>124</td>\n",
       "      <td>Action</td>\n",
       "      <td>amblin entertainment</td>\n",
       "      <td>6.5</td>\n",
       "      <td>secondary</td>\n",
       "    </tr>\n",
       "    <tr>\n",
       "      <th>0</th>\n",
       "      <td>jurassic world</td>\n",
       "      <td>bryce dallas howard</td>\n",
       "      <td>colin trevorrow</td>\n",
       "      <td>124</td>\n",
       "      <td>Action</td>\n",
       "      <td>legendary pictures</td>\n",
       "      <td>6.5</td>\n",
       "      <td>secondary</td>\n",
       "    </tr>\n",
       "    <tr>\n",
       "      <th>0</th>\n",
       "      <td>jurassic world</td>\n",
       "      <td>bryce dallas howard</td>\n",
       "      <td>colin trevorrow</td>\n",
       "      <td>124</td>\n",
       "      <td>Action</td>\n",
       "      <td>fuji television network</td>\n",
       "      <td>6.5</td>\n",
       "      <td>secondary</td>\n",
       "    </tr>\n",
       "    <tr>\n",
       "      <th>0</th>\n",
       "      <td>jurassic world</td>\n",
       "      <td>bryce dallas howard</td>\n",
       "      <td>colin trevorrow</td>\n",
       "      <td>124</td>\n",
       "      <td>Action</td>\n",
       "      <td>dentsu</td>\n",
       "      <td>6.5</td>\n",
       "      <td>secondary</td>\n",
       "    </tr>\n",
       "    <tr>\n",
       "      <th>0</th>\n",
       "      <td>jurassic world</td>\n",
       "      <td>irrfan khan</td>\n",
       "      <td>colin trevorrow</td>\n",
       "      <td>124</td>\n",
       "      <td>Action</td>\n",
       "      <td>universal studios</td>\n",
       "      <td>6.5</td>\n",
       "      <td>primary</td>\n",
       "    </tr>\n",
       "    <tr>\n",
       "      <th>0</th>\n",
       "      <td>jurassic world</td>\n",
       "      <td>irrfan khan</td>\n",
       "      <td>colin trevorrow</td>\n",
       "      <td>124</td>\n",
       "      <td>Action</td>\n",
       "      <td>amblin entertainment</td>\n",
       "      <td>6.5</td>\n",
       "      <td>secondary</td>\n",
       "    </tr>\n",
       "    <tr>\n",
       "      <th>0</th>\n",
       "      <td>jurassic world</td>\n",
       "      <td>irrfan khan</td>\n",
       "      <td>colin trevorrow</td>\n",
       "      <td>124</td>\n",
       "      <td>Action</td>\n",
       "      <td>legendary pictures</td>\n",
       "      <td>6.5</td>\n",
       "      <td>secondary</td>\n",
       "    </tr>\n",
       "    <tr>\n",
       "      <th>0</th>\n",
       "      <td>jurassic world</td>\n",
       "      <td>irrfan khan</td>\n",
       "      <td>colin trevorrow</td>\n",
       "      <td>124</td>\n",
       "      <td>Action</td>\n",
       "      <td>fuji television network</td>\n",
       "      <td>6.5</td>\n",
       "      <td>secondary</td>\n",
       "    </tr>\n",
       "    <tr>\n",
       "      <th>0</th>\n",
       "      <td>jurassic world</td>\n",
       "      <td>irrfan khan</td>\n",
       "      <td>colin trevorrow</td>\n",
       "      <td>124</td>\n",
       "      <td>Action</td>\n",
       "      <td>dentsu</td>\n",
       "      <td>6.5</td>\n",
       "      <td>secondary</td>\n",
       "    </tr>\n",
       "  </tbody>\n",
       "</table>\n",
       "</div>"
      ],
      "text/plain": [
       "   original_title                 cast         director  runtime  genres  \\\n",
       "0  jurassic world          chris pratt  colin trevorrow      124  Action   \n",
       "0  jurassic world          chris pratt  colin trevorrow      124  Action   \n",
       "0  jurassic world          chris pratt  colin trevorrow      124  Action   \n",
       "0  jurassic world          chris pratt  colin trevorrow      124  Action   \n",
       "0  jurassic world          chris pratt  colin trevorrow      124  Action   \n",
       "0  jurassic world  bryce dallas howard  colin trevorrow      124  Action   \n",
       "0  jurassic world  bryce dallas howard  colin trevorrow      124  Action   \n",
       "0  jurassic world  bryce dallas howard  colin trevorrow      124  Action   \n",
       "0  jurassic world  bryce dallas howard  colin trevorrow      124  Action   \n",
       "0  jurassic world  bryce dallas howard  colin trevorrow      124  Action   \n",
       "0  jurassic world          irrfan khan  colin trevorrow      124  Action   \n",
       "0  jurassic world          irrfan khan  colin trevorrow      124  Action   \n",
       "0  jurassic world          irrfan khan  colin trevorrow      124  Action   \n",
       "0  jurassic world          irrfan khan  colin trevorrow      124  Action   \n",
       "0  jurassic world          irrfan khan  colin trevorrow      124  Action   \n",
       "\n",
       "      production_companies  vote_average company_priority  \n",
       "0        universal studios           6.5          primary  \n",
       "0     amblin entertainment           6.5        secondary  \n",
       "0       legendary pictures           6.5        secondary  \n",
       "0  fuji television network           6.5        secondary  \n",
       "0                   dentsu           6.5        secondary  \n",
       "0        universal studios           6.5          primary  \n",
       "0     amblin entertainment           6.5        secondary  \n",
       "0       legendary pictures           6.5        secondary  \n",
       "0  fuji television network           6.5        secondary  \n",
       "0                   dentsu           6.5        secondary  \n",
       "0        universal studios           6.5          primary  \n",
       "0     amblin entertainment           6.5        secondary  \n",
       "0       legendary pictures           6.5        secondary  \n",
       "0  fuji television network           6.5        secondary  \n",
       "0                   dentsu           6.5        secondary  "
      ]
     },
     "execution_count": 42,
     "metadata": {},
     "output_type": "execute_result"
    }
   ],
   "source": [
    "df[['original_title','cast','director','runtime','genres','production_companies','vote_average','company_priority']].head(15)"
   ]
  },
  {
   "cell_type": "markdown",
   "metadata": {},
   "source": [
    "Output confirmed that the assignment was performed correctly.\n",
    "\n",
    "Next, we should categorize our movies by runtime into three categories: short, featured, and series, and put those values into `movie_type`.\n",
    "\n",
    "First, create a function that will assign a category based on the runtime:"
   ]
  },
  {
   "cell_type": "code",
   "execution_count": 43,
   "metadata": {},
   "outputs": [],
   "source": [
    "def movie_cat(runtime):\n",
    "    if runtime < 80:\n",
    "        return \"short\"\n",
    "    elif runtime >= 80 and runtime <= 240:\n",
    "        return \"featured\"\n",
    "    else:\n",
    "        return \"series\""
   ]
  },
  {
   "cell_type": "markdown",
   "metadata": {},
   "source": [
    "Apply a new function to our dataset:"
   ]
  },
  {
   "cell_type": "code",
   "execution_count": 44,
   "metadata": {},
   "outputs": [],
   "source": [
    "df['movie_type'] = df['runtime'].apply(movie_cat)"
   ]
  },
  {
   "cell_type": "code",
   "execution_count": 45,
   "metadata": {},
   "outputs": [
    {
     "data": {
      "text/html": [
       "<div>\n",
       "<style scoped>\n",
       "    .dataframe tbody tr th:only-of-type {\n",
       "        vertical-align: middle;\n",
       "    }\n",
       "\n",
       "    .dataframe tbody tr th {\n",
       "        vertical-align: top;\n",
       "    }\n",
       "\n",
       "    .dataframe thead th {\n",
       "        text-align: right;\n",
       "    }\n",
       "</style>\n",
       "<table border=\"1\" class=\"dataframe\">\n",
       "  <thead>\n",
       "    <tr style=\"text-align: right;\">\n",
       "      <th></th>\n",
       "      <th>runtime</th>\n",
       "      <th>movie_type</th>\n",
       "    </tr>\n",
       "  </thead>\n",
       "  <tbody>\n",
       "    <tr>\n",
       "      <th>0</th>\n",
       "      <td>124</td>\n",
       "      <td>featured</td>\n",
       "    </tr>\n",
       "    <tr>\n",
       "      <th>0</th>\n",
       "      <td>124</td>\n",
       "      <td>featured</td>\n",
       "    </tr>\n",
       "    <tr>\n",
       "      <th>0</th>\n",
       "      <td>124</td>\n",
       "      <td>featured</td>\n",
       "    </tr>\n",
       "    <tr>\n",
       "      <th>0</th>\n",
       "      <td>124</td>\n",
       "      <td>featured</td>\n",
       "    </tr>\n",
       "    <tr>\n",
       "      <th>0</th>\n",
       "      <td>124</td>\n",
       "      <td>featured</td>\n",
       "    </tr>\n",
       "  </tbody>\n",
       "</table>\n",
       "</div>"
      ],
      "text/plain": [
       "   runtime movie_type\n",
       "0      124   featured\n",
       "0      124   featured\n",
       "0      124   featured\n",
       "0      124   featured\n",
       "0      124   featured"
      ]
     },
     "execution_count": 45,
     "metadata": {},
     "output_type": "execute_result"
    }
   ],
   "source": [
    "df[['runtime','movie_type']].head()"
   ]
  },
  {
   "cell_type": "markdown",
   "metadata": {},
   "source": [
    "Next, we should categorize our movies by decades and put those values into `decade`.\n",
    "\n",
    "First, create a function that will return a decade based on the release date:"
   ]
  },
  {
   "cell_type": "code",
   "execution_count": 46,
   "metadata": {},
   "outputs": [],
   "source": [
    "def decades(date):\n",
    "    if date.year >= 1910 and date.year < 1920 :\n",
    "        return \"1910s\"\n",
    "    elif date.year >= 1920 and date.year < 1930 :\n",
    "        return \"1920s\"\n",
    "    elif date.year >= 1930 and date.year < 1940 :\n",
    "        return \"1930s\"\n",
    "    elif date.year >= 1940 and date.year < 1950 :\n",
    "        return \"1940s\"\n",
    "    elif date.year >= 1950 and date.year < 1960 :\n",
    "        return \"1950s\"\n",
    "    elif date.year >= 1960 and date.year < 1970 :\n",
    "        return \"1960s\"\n",
    "    elif date.year >= 1970 and date.year < 1980 :\n",
    "        return \"1970s\"\n",
    "    elif date.year >= 1980 and date.year < 1990 :\n",
    "        return \"1980s\"\n",
    "    elif date.year >= 1990 and date.year < 2000 :\n",
    "        return \"1990s\"\n",
    "    elif date.year >= 2000 and date.year < 2010 :\n",
    "        return \"2000s\"\n",
    "    elif date.year >= 2010 and date.year < 2020 :\n",
    "        return \"2010s\"\n",
    "    \n",
    "    \n",
    "    "
   ]
  },
  {
   "cell_type": "markdown",
   "metadata": {},
   "source": [
    "Second, create a new column `decade` and apply a new function:"
   ]
  },
  {
   "cell_type": "code",
   "execution_count": 47,
   "metadata": {},
   "outputs": [],
   "source": [
    "df['decade']=df['release_date'].apply(decades)"
   ]
  },
  {
   "cell_type": "markdown",
   "metadata": {},
   "source": [
    "Print a few lines from top and from bottom to check if our function worked correctly:"
   ]
  },
  {
   "cell_type": "code",
   "execution_count": 48,
   "metadata": {},
   "outputs": [
    {
     "data": {
      "text/html": [
       "<div>\n",
       "<style scoped>\n",
       "    .dataframe tbody tr th:only-of-type {\n",
       "        vertical-align: middle;\n",
       "    }\n",
       "\n",
       "    .dataframe tbody tr th {\n",
       "        vertical-align: top;\n",
       "    }\n",
       "\n",
       "    .dataframe thead th {\n",
       "        text-align: right;\n",
       "    }\n",
       "</style>\n",
       "<table border=\"1\" class=\"dataframe\">\n",
       "  <thead>\n",
       "    <tr style=\"text-align: right;\">\n",
       "      <th></th>\n",
       "      <th>id</th>\n",
       "      <th>imdb_id</th>\n",
       "      <th>popularity</th>\n",
       "      <th>original_title</th>\n",
       "      <th>cast</th>\n",
       "      <th>director</th>\n",
       "      <th>overview</th>\n",
       "      <th>runtime</th>\n",
       "      <th>genres</th>\n",
       "      <th>production_companies</th>\n",
       "      <th>release_date</th>\n",
       "      <th>vote_count</th>\n",
       "      <th>vote_average</th>\n",
       "      <th>company_priority</th>\n",
       "      <th>movie_type</th>\n",
       "      <th>decade</th>\n",
       "    </tr>\n",
       "  </thead>\n",
       "  <tbody>\n",
       "    <tr>\n",
       "      <th>0</th>\n",
       "      <td>135397</td>\n",
       "      <td>tt0369610</td>\n",
       "      <td>32.985763</td>\n",
       "      <td>jurassic world</td>\n",
       "      <td>chris pratt</td>\n",
       "      <td>colin trevorrow</td>\n",
       "      <td>twenty-two years after the events of jurassic ...</td>\n",
       "      <td>124</td>\n",
       "      <td>Action</td>\n",
       "      <td>universal studios</td>\n",
       "      <td>2015-06-09</td>\n",
       "      <td>5562</td>\n",
       "      <td>6.5</td>\n",
       "      <td>primary</td>\n",
       "      <td>featured</td>\n",
       "      <td>2010s</td>\n",
       "    </tr>\n",
       "    <tr>\n",
       "      <th>0</th>\n",
       "      <td>135397</td>\n",
       "      <td>tt0369610</td>\n",
       "      <td>32.985763</td>\n",
       "      <td>jurassic world</td>\n",
       "      <td>chris pratt</td>\n",
       "      <td>colin trevorrow</td>\n",
       "      <td>twenty-two years after the events of jurassic ...</td>\n",
       "      <td>124</td>\n",
       "      <td>Action</td>\n",
       "      <td>amblin entertainment</td>\n",
       "      <td>2015-06-09</td>\n",
       "      <td>5562</td>\n",
       "      <td>6.5</td>\n",
       "      <td>secondary</td>\n",
       "      <td>featured</td>\n",
       "      <td>2010s</td>\n",
       "    </tr>\n",
       "    <tr>\n",
       "      <th>0</th>\n",
       "      <td>135397</td>\n",
       "      <td>tt0369610</td>\n",
       "      <td>32.985763</td>\n",
       "      <td>jurassic world</td>\n",
       "      <td>chris pratt</td>\n",
       "      <td>colin trevorrow</td>\n",
       "      <td>twenty-two years after the events of jurassic ...</td>\n",
       "      <td>124</td>\n",
       "      <td>Action</td>\n",
       "      <td>legendary pictures</td>\n",
       "      <td>2015-06-09</td>\n",
       "      <td>5562</td>\n",
       "      <td>6.5</td>\n",
       "      <td>secondary</td>\n",
       "      <td>featured</td>\n",
       "      <td>2010s</td>\n",
       "    </tr>\n",
       "    <tr>\n",
       "      <th>0</th>\n",
       "      <td>135397</td>\n",
       "      <td>tt0369610</td>\n",
       "      <td>32.985763</td>\n",
       "      <td>jurassic world</td>\n",
       "      <td>chris pratt</td>\n",
       "      <td>colin trevorrow</td>\n",
       "      <td>twenty-two years after the events of jurassic ...</td>\n",
       "      <td>124</td>\n",
       "      <td>Action</td>\n",
       "      <td>fuji television network</td>\n",
       "      <td>2015-06-09</td>\n",
       "      <td>5562</td>\n",
       "      <td>6.5</td>\n",
       "      <td>secondary</td>\n",
       "      <td>featured</td>\n",
       "      <td>2010s</td>\n",
       "    </tr>\n",
       "    <tr>\n",
       "      <th>0</th>\n",
       "      <td>135397</td>\n",
       "      <td>tt0369610</td>\n",
       "      <td>32.985763</td>\n",
       "      <td>jurassic world</td>\n",
       "      <td>chris pratt</td>\n",
       "      <td>colin trevorrow</td>\n",
       "      <td>twenty-two years after the events of jurassic ...</td>\n",
       "      <td>124</td>\n",
       "      <td>Action</td>\n",
       "      <td>dentsu</td>\n",
       "      <td>2015-06-09</td>\n",
       "      <td>5562</td>\n",
       "      <td>6.5</td>\n",
       "      <td>secondary</td>\n",
       "      <td>featured</td>\n",
       "      <td>2010s</td>\n",
       "    </tr>\n",
       "  </tbody>\n",
       "</table>\n",
       "</div>"
      ],
      "text/plain": [
       "       id    imdb_id  popularity  original_title         cast  \\\n",
       "0  135397  tt0369610   32.985763  jurassic world  chris pratt   \n",
       "0  135397  tt0369610   32.985763  jurassic world  chris pratt   \n",
       "0  135397  tt0369610   32.985763  jurassic world  chris pratt   \n",
       "0  135397  tt0369610   32.985763  jurassic world  chris pratt   \n",
       "0  135397  tt0369610   32.985763  jurassic world  chris pratt   \n",
       "\n",
       "          director                                           overview  \\\n",
       "0  colin trevorrow  twenty-two years after the events of jurassic ...   \n",
       "0  colin trevorrow  twenty-two years after the events of jurassic ...   \n",
       "0  colin trevorrow  twenty-two years after the events of jurassic ...   \n",
       "0  colin trevorrow  twenty-two years after the events of jurassic ...   \n",
       "0  colin trevorrow  twenty-two years after the events of jurassic ...   \n",
       "\n",
       "   runtime  genres     production_companies release_date  vote_count  \\\n",
       "0      124  Action        universal studios   2015-06-09        5562   \n",
       "0      124  Action     amblin entertainment   2015-06-09        5562   \n",
       "0      124  Action       legendary pictures   2015-06-09        5562   \n",
       "0      124  Action  fuji television network   2015-06-09        5562   \n",
       "0      124  Action                   dentsu   2015-06-09        5562   \n",
       "\n",
       "   vote_average company_priority movie_type decade  \n",
       "0           6.5          primary   featured  2010s  \n",
       "0           6.5        secondary   featured  2010s  \n",
       "0           6.5        secondary   featured  2010s  \n",
       "0           6.5        secondary   featured  2010s  \n",
       "0           6.5        secondary   featured  2010s  "
      ]
     },
     "execution_count": 48,
     "metadata": {},
     "output_type": "execute_result"
    }
   ],
   "source": [
    "df.head()"
   ]
  },
  {
   "cell_type": "code",
   "execution_count": 49,
   "metadata": {},
   "outputs": [
    {
     "data": {
      "text/html": [
       "<div>\n",
       "<style scoped>\n",
       "    .dataframe tbody tr th:only-of-type {\n",
       "        vertical-align: middle;\n",
       "    }\n",
       "\n",
       "    .dataframe tbody tr th {\n",
       "        vertical-align: top;\n",
       "    }\n",
       "\n",
       "    .dataframe thead th {\n",
       "        text-align: right;\n",
       "    }\n",
       "</style>\n",
       "<table border=\"1\" class=\"dataframe\">\n",
       "  <thead>\n",
       "    <tr style=\"text-align: right;\">\n",
       "      <th></th>\n",
       "      <th>id</th>\n",
       "      <th>imdb_id</th>\n",
       "      <th>popularity</th>\n",
       "      <th>original_title</th>\n",
       "      <th>cast</th>\n",
       "      <th>director</th>\n",
       "      <th>overview</th>\n",
       "      <th>runtime</th>\n",
       "      <th>genres</th>\n",
       "      <th>production_companies</th>\n",
       "      <th>release_date</th>\n",
       "      <th>vote_count</th>\n",
       "      <th>vote_average</th>\n",
       "      <th>company_priority</th>\n",
       "      <th>movie_type</th>\n",
       "      <th>decade</th>\n",
       "    </tr>\n",
       "  </thead>\n",
       "  <tbody>\n",
       "    <tr>\n",
       "      <th>10865</th>\n",
       "      <td>22293</td>\n",
       "      <td>tt0060666</td>\n",
       "      <td>0.035919</td>\n",
       "      <td>manos: the hands of fate</td>\n",
       "      <td>harold p. warren</td>\n",
       "      <td>harold p. warren</td>\n",
       "      <td>a family gets lost on the road and stumbles up...</td>\n",
       "      <td>74</td>\n",
       "      <td>Horror</td>\n",
       "      <td>norm-iris</td>\n",
       "      <td>1966-11-15</td>\n",
       "      <td>15</td>\n",
       "      <td>1.5</td>\n",
       "      <td>primary</td>\n",
       "      <td>short</td>\n",
       "      <td>1960s</td>\n",
       "    </tr>\n",
       "    <tr>\n",
       "      <th>10865</th>\n",
       "      <td>22293</td>\n",
       "      <td>tt0060666</td>\n",
       "      <td>0.035919</td>\n",
       "      <td>manos: the hands of fate</td>\n",
       "      <td>tom neyman</td>\n",
       "      <td>harold p. warren</td>\n",
       "      <td>a family gets lost on the road and stumbles up...</td>\n",
       "      <td>74</td>\n",
       "      <td>Horror</td>\n",
       "      <td>norm-iris</td>\n",
       "      <td>1966-11-15</td>\n",
       "      <td>15</td>\n",
       "      <td>1.5</td>\n",
       "      <td>primary</td>\n",
       "      <td>short</td>\n",
       "      <td>1960s</td>\n",
       "    </tr>\n",
       "    <tr>\n",
       "      <th>10865</th>\n",
       "      <td>22293</td>\n",
       "      <td>tt0060666</td>\n",
       "      <td>0.035919</td>\n",
       "      <td>manos: the hands of fate</td>\n",
       "      <td>john reynolds</td>\n",
       "      <td>harold p. warren</td>\n",
       "      <td>a family gets lost on the road and stumbles up...</td>\n",
       "      <td>74</td>\n",
       "      <td>Horror</td>\n",
       "      <td>norm-iris</td>\n",
       "      <td>1966-11-15</td>\n",
       "      <td>15</td>\n",
       "      <td>1.5</td>\n",
       "      <td>primary</td>\n",
       "      <td>short</td>\n",
       "      <td>1960s</td>\n",
       "    </tr>\n",
       "    <tr>\n",
       "      <th>10865</th>\n",
       "      <td>22293</td>\n",
       "      <td>tt0060666</td>\n",
       "      <td>0.035919</td>\n",
       "      <td>manos: the hands of fate</td>\n",
       "      <td>diane mahree</td>\n",
       "      <td>harold p. warren</td>\n",
       "      <td>a family gets lost on the road and stumbles up...</td>\n",
       "      <td>74</td>\n",
       "      <td>Horror</td>\n",
       "      <td>norm-iris</td>\n",
       "      <td>1966-11-15</td>\n",
       "      <td>15</td>\n",
       "      <td>1.5</td>\n",
       "      <td>primary</td>\n",
       "      <td>short</td>\n",
       "      <td>1960s</td>\n",
       "    </tr>\n",
       "    <tr>\n",
       "      <th>10865</th>\n",
       "      <td>22293</td>\n",
       "      <td>tt0060666</td>\n",
       "      <td>0.035919</td>\n",
       "      <td>manos: the hands of fate</td>\n",
       "      <td>stephanie nielson</td>\n",
       "      <td>harold p. warren</td>\n",
       "      <td>a family gets lost on the road and stumbles up...</td>\n",
       "      <td>74</td>\n",
       "      <td>Horror</td>\n",
       "      <td>norm-iris</td>\n",
       "      <td>1966-11-15</td>\n",
       "      <td>15</td>\n",
       "      <td>1.5</td>\n",
       "      <td>primary</td>\n",
       "      <td>short</td>\n",
       "      <td>1960s</td>\n",
       "    </tr>\n",
       "  </tbody>\n",
       "</table>\n",
       "</div>"
      ],
      "text/plain": [
       "          id    imdb_id  popularity            original_title  \\\n",
       "10865  22293  tt0060666    0.035919  manos: the hands of fate   \n",
       "10865  22293  tt0060666    0.035919  manos: the hands of fate   \n",
       "10865  22293  tt0060666    0.035919  manos: the hands of fate   \n",
       "10865  22293  tt0060666    0.035919  manos: the hands of fate   \n",
       "10865  22293  tt0060666    0.035919  manos: the hands of fate   \n",
       "\n",
       "                    cast          director  \\\n",
       "10865   harold p. warren  harold p. warren   \n",
       "10865         tom neyman  harold p. warren   \n",
       "10865      john reynolds  harold p. warren   \n",
       "10865       diane mahree  harold p. warren   \n",
       "10865  stephanie nielson  harold p. warren   \n",
       "\n",
       "                                                overview  runtime  genres  \\\n",
       "10865  a family gets lost on the road and stumbles up...       74  Horror   \n",
       "10865  a family gets lost on the road and stumbles up...       74  Horror   \n",
       "10865  a family gets lost on the road and stumbles up...       74  Horror   \n",
       "10865  a family gets lost on the road and stumbles up...       74  Horror   \n",
       "10865  a family gets lost on the road and stumbles up...       74  Horror   \n",
       "\n",
       "      production_companies release_date  vote_count  vote_average  \\\n",
       "10865            norm-iris   1966-11-15          15           1.5   \n",
       "10865            norm-iris   1966-11-15          15           1.5   \n",
       "10865            norm-iris   1966-11-15          15           1.5   \n",
       "10865            norm-iris   1966-11-15          15           1.5   \n",
       "10865            norm-iris   1966-11-15          15           1.5   \n",
       "\n",
       "      company_priority movie_type decade  \n",
       "10865          primary      short  1960s  \n",
       "10865          primary      short  1960s  \n",
       "10865          primary      short  1960s  \n",
       "10865          primary      short  1960s  \n",
       "10865          primary      short  1960s  "
      ]
     },
     "execution_count": 49,
     "metadata": {},
     "output_type": "execute_result"
    }
   ],
   "source": [
    "df.tail()"
   ]
  },
  {
   "cell_type": "markdown",
   "metadata": {},
   "source": [
    "#### Trim dataset\n",
    "\n",
    "Trim dataset and exclude columns that won't be needed for our EDA.\n",
    "\n",
    "drop `id`, `imdb_id`, `popularity`, `cast`, `overview`, `vote_count` columns and save trimmed dataset with a name `'tdf'`:\n",
    "\n",
    "> <div class=\"alert alert-block alert-info\">\n",
    "<b>Note:</b> I decided to save the trimmed dataset with a new name because it can be helpful for other questions in the future.\n",
    "</div>"
   ]
  },
  {
   "cell_type": "code",
   "execution_count": 50,
   "metadata": {},
   "outputs": [],
   "source": [
    "tdf = df.drop(['id', 'imdb_id', 'popularity', 'cast', 'overview'] , axis=1)"
   ]
  },
  {
   "cell_type": "code",
   "execution_count": 51,
   "metadata": {},
   "outputs": [
    {
     "name": "stdout",
     "output_type": "stream",
     "text": [
      "<class 'pandas.core.frame.DataFrame'>\n",
      "Int64Index: 316580 entries, 0 to 10865\n",
      "Data columns (total 11 columns):\n",
      " #   Column                Non-Null Count   Dtype         \n",
      "---  ------                --------------   -----         \n",
      " 0   original_title        316580 non-null  object        \n",
      " 1   director              316580 non-null  object        \n",
      " 2   runtime               316580 non-null  int32         \n",
      " 3   genres                316580 non-null  object        \n",
      " 4   production_companies  316580 non-null  object        \n",
      " 5   release_date          316580 non-null  datetime64[ns]\n",
      " 6   vote_count            316580 non-null  int64         \n",
      " 7   vote_average          316580 non-null  float64       \n",
      " 8   company_priority      316580 non-null  object        \n",
      " 9   movie_type            316580 non-null  object        \n",
      " 10  decade                316580 non-null  object        \n",
      "dtypes: datetime64[ns](1), float64(1), int32(1), int64(1), object(7)\n",
      "memory usage: 27.8+ MB\n"
     ]
    }
   ],
   "source": [
    "#Print the general info\n",
    "tdf.info()"
   ]
  },
  {
   "cell_type": "markdown",
   "metadata": {},
   "source": [
    "The new dataset would have a lot of duplicates since cast column was dropped. \n",
    "\n",
    "Print the sum of the duplicates:"
   ]
  },
  {
   "cell_type": "code",
   "execution_count": 52,
   "metadata": {},
   "outputs": [
    {
     "data": {
      "text/plain": [
       "252617"
      ]
     },
     "execution_count": 52,
     "metadata": {},
     "output_type": "execute_result"
    }
   ],
   "source": [
    "tdf.duplicated().sum()"
   ]
  },
  {
   "cell_type": "markdown",
   "metadata": {},
   "source": [
    "Drop duplicates:\n"
   ]
  },
  {
   "cell_type": "code",
   "execution_count": 53,
   "metadata": {},
   "outputs": [],
   "source": [
    "tdf.drop_duplicates(inplace = True)"
   ]
  },
  {
   "cell_type": "markdown",
   "metadata": {},
   "source": [
    "Double-check if we removed all duplicates:"
   ]
  },
  {
   "cell_type": "code",
   "execution_count": 54,
   "metadata": {},
   "outputs": [
    {
     "data": {
      "text/plain": [
       "0"
      ]
     },
     "execution_count": 54,
     "metadata": {},
     "output_type": "execute_result"
    }
   ],
   "source": [
    "tdf.duplicated().sum()"
   ]
  },
  {
   "cell_type": "markdown",
   "metadata": {},
   "source": [
    "Printing the general information:"
   ]
  },
  {
   "cell_type": "code",
   "execution_count": 55,
   "metadata": {},
   "outputs": [
    {
     "name": "stdout",
     "output_type": "stream",
     "text": [
      "<class 'pandas.core.frame.DataFrame'>\n",
      "Int64Index: 63963 entries, 0 to 10865\n",
      "Data columns (total 11 columns):\n",
      " #   Column                Non-Null Count  Dtype         \n",
      "---  ------                --------------  -----         \n",
      " 0   original_title        63963 non-null  object        \n",
      " 1   director              63963 non-null  object        \n",
      " 2   runtime               63963 non-null  int32         \n",
      " 3   genres                63963 non-null  object        \n",
      " 4   production_companies  63963 non-null  object        \n",
      " 5   release_date          63963 non-null  datetime64[ns]\n",
      " 6   vote_count            63963 non-null  int64         \n",
      " 7   vote_average          63963 non-null  float64       \n",
      " 8   company_priority      63963 non-null  object        \n",
      " 9   movie_type            63963 non-null  object        \n",
      " 10  decade                63963 non-null  object        \n",
      "dtypes: datetime64[ns](1), float64(1), int32(1), int64(1), object(7)\n",
      "memory usage: 5.6+ MB\n"
     ]
    }
   ],
   "source": [
    "tdf.info()"
   ]
  },
  {
   "cell_type": "markdown",
   "metadata": {},
   "source": [
    "<a id='eda'></a>\n",
    "## Exploratory Data Analysis\n",
    "\n",
    "\n",
    "### Is there a correlation between the monthly quantity of produced films every decade?\n",
    "\n",
    "\n",
    "Is there a correlation between the monthly quantity of produced films every decade? And whether or not it is connected with major holidays.\n",
    "\n",
    "\n",
    "\n",
    "To answer this question, we need to:\n",
    "- create a reference dataset `df_ref1`, where we need to:\n",
    "\n",
    "- exclude all rows except those that have `'featured'` movie type,\n",
    "\n",
    "- drop `director`, `runtime`, `company_priority`, `movie_type`, `production_companies`, `vote_count`,`vote_average` columns, \n",
    "\n",
    "- print graphs for each decade\n",
    "\n",
    " \n"
   ]
  },
  {
   "cell_type": "markdown",
   "metadata": {},
   "source": [
    "Exclude all rows except those that have `'featured'` movie type:"
   ]
  },
  {
   "cell_type": "code",
   "execution_count": 56,
   "metadata": {},
   "outputs": [],
   "source": [
    "df_ref1 =tdf[tdf['movie_type'] == 'featured'] \n"
   ]
  },
  {
   "cell_type": "markdown",
   "metadata": {},
   "source": [
    "Drop `director`, `runtime`, `company_priority`, `movie_type`, `production_companies`, `vote_count`,`vote_average` columns:"
   ]
  },
  {
   "cell_type": "code",
   "execution_count": 57,
   "metadata": {},
   "outputs": [],
   "source": [
    "df_ref1 = df_ref1.drop(['director','runtime', 'company_priority', 'movie_type','production_companies', 'vote_count','vote_average','genres'], axis = 1)"
   ]
  },
  {
   "cell_type": "markdown",
   "metadata": {},
   "source": [
    "Drop duplicates:"
   ]
  },
  {
   "cell_type": "code",
   "execution_count": 58,
   "metadata": {},
   "outputs": [],
   "source": [
    "df_ref1.drop_duplicates(inplace = True)"
   ]
  },
  {
   "cell_type": "markdown",
   "metadata": {},
   "source": [
    "Double-check if we removed all duplicates:"
   ]
  },
  {
   "cell_type": "code",
   "execution_count": 59,
   "metadata": {},
   "outputs": [
    {
     "data": {
      "text/plain": [
       "0"
      ]
     },
     "execution_count": 59,
     "metadata": {},
     "output_type": "execute_result"
    }
   ],
   "source": [
    "df_ref1.duplicated().sum()"
   ]
  },
  {
   "cell_type": "markdown",
   "metadata": {},
   "source": [
    "Declare a function to show the graps for a single variables"
   ]
  },
  {
   "cell_type": "code",
   "execution_count": 60,
   "metadata": {},
   "outputs": [],
   "source": [
    "def d1_graphs(df, graph,column):\n",
    "    \n",
    "    \n",
    "    if graph == 'barplot':\n",
    "        plt.figure(figsize=(10, 3))\n",
    "        value_counts = df[column].value_counts()\n",
    "        plt.bar(value_counts.index, value_counts.values)\n",
    "        plt.title(f'Distribution of {column} values in the Dataset.')\n",
    "        plt.xlabel(column)\n",
    "        plt.ylabel(\"Counts\")\n",
    "        plt.xticks(rotation=55)\n",
    "        \n",
    "        return plt.show()\n",
    "    elif graph == 'hist':\n",
    "        plt.figure(figsize=(10, 3))\n",
    "        sns.histplot(data=df,x=column)\n",
    "        plt.title(f'Distribution of values in the {column} column.')\n",
    "        plt.ylabel(\"Counts\")\n",
    "        plt.xlabel(column)\n",
    "        \n",
    "        return plt.show()\n",
    "    else:\n",
    "        return \"that type of graph is not applicable for that function\"\n",
    "    \n",
    "   "
   ]
  },
  {
   "cell_type": "markdown",
   "metadata": {},
   "source": [
    "Create a new column `month`:"
   ]
  },
  {
   "cell_type": "code",
   "execution_count": 61,
   "metadata": {},
   "outputs": [],
   "source": [
    "#df_ref1['month'] = df_ref1['release_date'].dt.month\n",
    "df_ref1['month'] = df_ref1['release_date'].dt.strftime('%B')"
   ]
  },
  {
   "cell_type": "markdown",
   "metadata": {},
   "source": [
    "Create a bar graph for column `\"month\"`:"
   ]
  },
  {
   "cell_type": "code",
   "execution_count": 62,
   "metadata": {},
   "outputs": [
    {
     "data": {
      "image/png": "[encoded data removed]",
      "text/plain": [
       "<Figure size 1000x300 with 1 Axes>"
      ]
     },
     "metadata": {},
     "output_type": "display_data"
    }
   ],
   "source": [
    "d1_graphs(df_ref1, 'barplot','month')"
   ]
  },
  {
   "cell_type": "markdown",
   "metadata": {},
   "source": [
    "Based on the bar graph above representing the number of films produced each month, it is evident that September had the highest production count. October is closely followed as the second-highest month in film production, and the remaining months displayed relatively similar production numbers, indicating a consistent level of film production throughout the year."
   ]
  },
  {
   "cell_type": "markdown",
   "metadata": {},
   "source": [
    "Create a bar graph for column `\"decade\"`:"
   ]
  },
  {
   "cell_type": "code",
   "execution_count": 63,
   "metadata": {},
   "outputs": [
    {
     "data": {
      "image/png": "[encoded data removed]",
      "text/plain": [
       "<Figure size 1000x300 with 1 Axes>"
      ]
     },
     "metadata": {},
     "output_type": "display_data"
    }
   ],
   "source": [
    "d1_graphs(df_ref1, 'barplot','decade')"
   ]
  },
  {
   "cell_type": "markdown",
   "metadata": {},
   "source": [
    "The bar graph above, representing the number of films produced each decade, displayed a distinct trend that each new decade will likely make more films than the previous."
   ]
  },
  {
   "cell_type": "markdown",
   "metadata": {},
   "source": [
    "Print graphs for each decade with months on the x-axis and number of movies on the y-axis"
   ]
  },
  {
   "cell_type": "code",
   "execution_count": 64,
   "metadata": {},
   "outputs": [
    {
     "data": {
      "image/png": "[encoded data removed]",
      "text/plain": [
       "<Figure size 587.875x500 with 1 Axes>"
      ]
     },
     "metadata": {},
     "output_type": "display_data"
    }
   ],
   "source": [
    "sns.set_style(\"darkgrid\", {\"axes.facecolor\": \"lightgrey\"})\n",
    "df_ref1['month'] = df_ref1['release_date'].dt.month\n",
    "#sns.displot(data=df_ref1, x=\"month\", hue=\"decade\", multiple=\"stack\",kind=\"hist\",kde=True,palette=\"flare\")\n",
    "sns.displot(data=df_ref1, x=\"month\", hue=\"decade\", multiple=\"stack\",kind=\"hist\",kde=True,palette=\"viridis\")\n",
    "plt.xlabel('Month')\n",
    "plt.ylabel('Number of Movies')\n",
    "plt.title(f'Movies Released per Month in different decades')\n",
    "plt.xticks(rotation=45)\n",
    "plt.xticks(range(1, 13), ['Jan', 'Feb', 'Mar', 'Apr', 'May', 'Jun', 'Jul', 'Aug', 'Sep', 'Oct', 'Nov', 'Dec'])\n",
    "\n",
    "plt.show()"
   ]
  },
  {
   "cell_type": "markdown",
   "metadata": {},
   "source": [
    "### What is the most common genre for different types of movies, and what is their most common average vote?\n",
    "\n",
    "What is the most common genre for different types of movies, and what is their most common average vote? What is the most common range of average votes for different genres?\n",
    "\n",
    "\n",
    "To answer these questions, we need to:\n",
    "\n",
    "- create a reference dataset `df_ref1`,\n",
    "- Drop `'director'`,`'runtime'`, `'production_companies'`, `'release_date'`, `'company_priority'`, and `'decade'` columns\n",
    "- Create a function for graph plotting\n",
    "- Apply that function to all movie_types\n"
   ]
  },
  {
   "cell_type": "markdown",
   "metadata": {},
   "source": [
    "Drop `'director'`,`'runtime'` , `'production_companies'`,`'release_date'`, `'company_priority'`, `'decade'` columns:"
   ]
  },
  {
   "cell_type": "code",
   "execution_count": 65,
   "metadata": {},
   "outputs": [],
   "source": [
    "ref_1= tdf.drop(['director','runtime' , 'production_companies','release_date' ,'company_priority', 'decade'], axis=1)"
   ]
  },
  {
   "cell_type": "markdown",
   "metadata": {},
   "source": [
    "Drop duplicates:"
   ]
  },
  {
   "cell_type": "code",
   "execution_count": 66,
   "metadata": {},
   "outputs": [],
   "source": [
    "ref_1.drop_duplicates(inplace = True)"
   ]
  },
  {
   "cell_type": "markdown",
   "metadata": {},
   "source": [
    "Double-check if we removed all duplicates:"
   ]
  },
  {
   "cell_type": "code",
   "execution_count": 67,
   "metadata": {
    "scrolled": true
   },
   "outputs": [
    {
     "data": {
      "text/plain": [
       "0"
      ]
     },
     "execution_count": 67,
     "metadata": {},
     "output_type": "execute_result"
    }
   ],
   "source": [
    "ref_1.duplicated().sum()"
   ]
  },
  {
   "cell_type": "markdown",
   "metadata": {},
   "source": [
    "Create a bar graph for column `\"genres\"`:"
   ]
  },
  {
   "cell_type": "code",
   "execution_count": 68,
   "metadata": {},
   "outputs": [
    {
     "data": {
      "image/png": "[encoded data removed]",
      "text/plain": [
       "<Figure size 1000x300 with 1 Axes>"
      ]
     },
     "metadata": {},
     "output_type": "display_data"
    }
   ],
   "source": [
    "d1_graphs(ref_1, 'barplot',\"genres\")"
   ]
  },
  {
   "cell_type": "markdown",
   "metadata": {},
   "source": [
    "The bar graph above is a visual representation of the counts in different genres in the dataset. Based on that graph, we can observe \"Drama\" as the most common genre among the movies in the dataset. This genre has the highest count, indicating that it is a popular choice among the films included in the analysis. Following closely behind is the genre \"Comedy,\" which holds the second-highest count.\n",
    "\n",
    "The graph allows for a quick comparison of the film quantities across different genres."
   ]
  },
  {
   "cell_type": "markdown",
   "metadata": {},
   "source": [
    "Create a histogram for column `\"vote_average\"`:"
   ]
  },
  {
   "cell_type": "code",
   "execution_count": 69,
   "metadata": {},
   "outputs": [
    {
     "data": {
      "text/html": [
       "<div>\n",
       "<style scoped>\n",
       "    .dataframe tbody tr th:only-of-type {\n",
       "        vertical-align: middle;\n",
       "    }\n",
       "\n",
       "    .dataframe tbody tr th {\n",
       "        vertical-align: top;\n",
       "    }\n",
       "\n",
       "    .dataframe thead th {\n",
       "        text-align: right;\n",
       "    }\n",
       "</style>\n",
       "<table border=\"1\" class=\"dataframe\">\n",
       "  <thead>\n",
       "    <tr style=\"text-align: right;\">\n",
       "      <th></th>\n",
       "      <th>original_title</th>\n",
       "      <th>release_date</th>\n",
       "      <th>decade</th>\n",
       "      <th>month</th>\n",
       "    </tr>\n",
       "  </thead>\n",
       "  <tbody>\n",
       "    <tr>\n",
       "      <th>0</th>\n",
       "      <td>jurassic world</td>\n",
       "      <td>2015-06-09</td>\n",
       "      <td>2010s</td>\n",
       "      <td>6</td>\n",
       "    </tr>\n",
       "    <tr>\n",
       "      <th>1</th>\n",
       "      <td>mad max: fury road</td>\n",
       "      <td>2015-05-13</td>\n",
       "      <td>2010s</td>\n",
       "      <td>5</td>\n",
       "    </tr>\n",
       "    <tr>\n",
       "      <th>2</th>\n",
       "      <td>insurgent</td>\n",
       "      <td>2015-03-18</td>\n",
       "      <td>2010s</td>\n",
       "      <td>3</td>\n",
       "    </tr>\n",
       "    <tr>\n",
       "      <th>3</th>\n",
       "      <td>star wars: the force awakens</td>\n",
       "      <td>2015-12-15</td>\n",
       "      <td>2010s</td>\n",
       "      <td>12</td>\n",
       "    </tr>\n",
       "    <tr>\n",
       "      <th>4</th>\n",
       "      <td>furious 7</td>\n",
       "      <td>2015-04-01</td>\n",
       "      <td>2010s</td>\n",
       "      <td>4</td>\n",
       "    </tr>\n",
       "  </tbody>\n",
       "</table>\n",
       "</div>"
      ],
      "text/plain": [
       "                 original_title release_date decade  month\n",
       "0                jurassic world   2015-06-09  2010s      6\n",
       "1            mad max: fury road   2015-05-13  2010s      5\n",
       "2                     insurgent   2015-03-18  2010s      3\n",
       "3  star wars: the force awakens   2015-12-15  2010s     12\n",
       "4                     furious 7   2015-04-01  2010s      4"
      ]
     },
     "execution_count": 69,
     "metadata": {},
     "output_type": "execute_result"
    }
   ],
   "source": [
    "df_ref1.head()"
   ]
  },
  {
   "cell_type": "code",
   "execution_count": 70,
   "metadata": {},
   "outputs": [
    {
     "data": {
      "image/png": "[encoded data removed]",
      "text/plain": [
       "<Figure size 1000x300 with 1 Axes>"
      ]
     },
     "metadata": {},
     "output_type": "display_data"
    }
   ],
   "source": [
    "d1_graphs(ref_1,\"hist\", 'vote_average')\n"
   ]
  },
  {
   "cell_type": "markdown",
   "metadata": {},
   "source": [
    "The histogram reveals a skewed distribution of values, leaning towards the right side. This means that most of the data are imbalanced towards higher values, while fewer values are present towards the lower end."
   ]
  },
  {
   "cell_type": "markdown",
   "metadata": {},
   "source": [
    "Create a list with unique values of `movie_type` column:"
   ]
  },
  {
   "cell_type": "code",
   "execution_count": 71,
   "metadata": {},
   "outputs": [],
   "source": [
    "movie_type = ref_1['movie_type'].unique()"
   ]
  },
  {
   "cell_type": "markdown",
   "metadata": {},
   "source": [
    "Create a function that will retern a heatmap for every movie_type. A heatmap should have a custom color palette for better visual appearence, on x-axis it should have genres, on y-axis it should have average vote. It will help to see the most common votes for different genres:"
   ]
  },
  {
   "cell_type": "code",
   "execution_count": 72,
   "metadata": {},
   "outputs": [],
   "source": [
    "def heatmap_plotter_by_film_type(df,movie_type):\n",
    "    \n",
    "    df = df[df['movie_type'] == movie_type]\n",
    "    \n",
    "    \n",
    "    # x-axis genres, y-axis vote_average\n",
    "    pivot_df = df.pivot_table(index='vote_average', columns='genres', aggfunc='size', fill_value=0)\n",
    "\n",
    "    # Reverse the order of rows\n",
    "    pivot_df = pivot_df.iloc[::-1]\n",
    "\n",
    "    # Create color palette with the smallest step for color change\n",
    "    num_colors = len(pivot_df.columns)*3\n",
    "    color_palette = sns.color_palette(\"viridis\", num_colors)\n",
    "\n",
    "    # Create the heatmap with the custom color palette\n",
    "    plt.figure(figsize=(10, 6))\n",
    "    sns.heatmap(pivot_df, cmap=color_palette, annot=False)\n",
    "\n",
    "    # plot title and labels\n",
    "    plt.title(f'Vote Average by Genres for {movie_type} films')\n",
    "    plt.xlabel('Genres')\n",
    "    plt.ylabel('Vote Average')\n",
    "\n",
    "    # Adjust lables\n",
    "    plt.xticks(rotation=45, ha='right')\n",
    "    plt.yticks(rotation=0, ha='right')\n",
    "\n",
    "    # Show the plot\n",
    "    return plt.show()\n",
    "    \n"
   ]
  },
  {
   "cell_type": "markdown",
   "metadata": {},
   "source": [
    "Apply the function for each movie_type:"
   ]
  },
  {
   "cell_type": "code",
   "execution_count": 73,
   "metadata": {
    "scrolled": false
   },
   "outputs": [
    {
     "data": {
      "image/png": "[encoded data removed]",
      "text/plain": [
       "<Figure size 1000x600 with 2 Axes>"
      ]
     },
     "metadata": {},
     "output_type": "display_data"
    },
    {
     "data": {
      "image/png": "[encoded data removed]",
      "text/plain": [
       "<Figure size 1000x600 with 2 Axes>"
      ]
     },
     "metadata": {},
     "output_type": "display_data"
    },
    {
     "data": {
      "image/png": "[encoded data removed]",
      "text/plain": [
       "<Figure size 1000x600 with 2 Axes>"
      ]
     },
     "metadata": {},
     "output_type": "display_data"
    }
   ],
   "source": [
    "for movie in movie_type:\n",
    "    heatmap_plotter_by_film_type(ref_1,movie)"
   ]
  },
  {
   "cell_type": "markdown",
   "metadata": {},
   "source": [
    "<a id='conclusions'></a>\n",
    "## Conclusions\n",
    "\n",
    "\n",
    "Based on the analysis of the monthly quantity of produced films across different decades, the following conclusions can be drawn:\n",
    "\n",
    "- Correlation: The analysis aimed to determine if there is a correlation between the monthly quantity of produced films and the respective decades. The visual exploration of the data suggests that there may be some correlation between the two variables. Further deep statistical analysis can clarify the strength and significance of this correlation.\n",
    "\n",
    "- Distribution Patterns: The distribution patterns of the monthly quantity of produced films for all decades exhibit a skewness towards the left side. This indicates that there are generally fewer films released in certain months compared to others.\n",
    "\n",
    "- Peak Observations: Notably, the analysis reveals that for the two latest decades, there is a more pronounced peak in the distribution. This suggests that during these decades, there are specific months when a significantly higher number of films are produced, possibly indicating industry trends or preferences during those time periods.\n",
    "\n",
    "These findings highlight the potential correlation between the monthly quantity of produced films and the respective decades. The skewed distribution patterns and the prominent peaks in the more recent decades provide insights into the temporal variations in film production. Further investigation and statistical analysis can help validate and quantify these observations, providing a deeper understanding of the relationship between film production and time.\n",
    "Based on the analysis of different types of movies and their respective genres and average votes, the following conclusions can be drawn:\n",
    "\n",
    "- Featured Movies: The most common genre for featured movies is drama, followed by comedy. The highest common average vote for featured movies is 6.6.\n",
    "\n",
    "- Short Movies: For short movies, the most common genre is animation, followed by family. It is worth noting that animation and family genres often go hand in hand, as many animated movies target family audiences. The highest common average vote for short movies is 7.\n",
    "\n",
    "- Series: The most common genre for series is drama. The highest common average vote for series is 6.7.\n",
    "\n",
    "These findings provide insights into the most common genre and average vote for different types of movies. Drama appears to be a prevalent genre across all kinds, indicating its popularity and broad appeal. Comedy is also a popular genre for featured movies. Furthermore, short movies tend to focus on animation and family genres, possibly due to their suitability for shorter formats and family-oriented content.\n",
    "\n",
    "The highest common average votes suggest that movies across different types generally receive moderate ratings, with the range falling between 6.6 and 7. This information can help inform decisions related to genre selection and expected audience preferences when producing and promoting movies of different types.\n",
    "\n",
    "It's important to note that these conclusions are based on the given findings and may vary depending on the specific dataset and analysis conducted. Further exploration and statistical analysis can provide more comprehensive insights into genre preferences and average voting patterns for different types of movies.\n"
   ]
  },
  {
   "cell_type": "markdown",
   "metadata": {},
   "source": [
    "## Resources\n",
    "\n",
    "https://www.ibm.com/docs/en/db2-event-store/2.0.0?topic=notebooks-markdown-jupyter-cheatsheet<br>\n",
    "https://docs.python.org/3/library/unicodedata.html<br>\n",
    "https://seaborn.pydata.org/tutorial/color_palettes.html#<br>\n",
    "https://www.analyticsvidhya.com/blog/2021/10/handling-missing-value/<br>\n",
    "https://www.w3schools.com/python/ref_string_isascii.asp<br>\n",
    "https://www.w3schools.com/python/pandas/ref_df_applymap.asp<br>\n",
    "https://www.w3schools.com/python/pandas/ref_df_explode.asp<br>\n",
    "https://www.w3schools.com/python/pandas/ref_df_transform.asp<br>\n",
    "https://seaborn.pydata.org/tutorial/function_overview.html<br>\n",
    "\n",
    "\n"
   ]
  }
 ],
 "metadata": {
  "kernelspec": {
   "display_name": "Python 3 (ipykernel)",
   "language": "python",
   "name": "python3"
  },
  "language_info": {
   "codemirror_mode": {
    "name": "ipython",
    "version": 3
   },
   "file_extension": ".py",
   "mimetype": "text/x-python",
   "name": "python",
   "nbconvert_exporter": "python",
   "pygments_lexer": "ipython3",
   "version": "3.10.9"
  }
 },
 "nbformat": 4,
 "nbformat_minor": 2
}
